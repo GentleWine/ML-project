{
  "cells": [
    {
      "cell_type": "markdown",
      "metadata": {
        "id": "view-in-github",
        "colab_type": "text"
      },
      "source": [
        "<a href=\"https://colab.research.google.com/github/GentleWine/ML-project/blob/main/ClaNew.ipynb\" target=\"_parent\"><img src=\"https://colab.research.google.com/assets/colab-badge.svg\" alt=\"Open In Colab\"/></a>"
      ]
    },
    {
      "cell_type": "code",
      "execution_count": 36,
      "metadata": {
        "colab": {
          "base_uri": "https://localhost:8080/"
        },
        "id": "ZLZsigOOQbeE",
        "outputId": "d8c6516a-a208-4452-845a-0e50f6d58c7a"
      },
      "outputs": [
        {
          "output_type": "stream",
          "name": "stderr",
          "text": [
            "Using cache found in /root/.cache/torch/hub/ultralytics_yolov5_master\n",
            "YOLOv5 🚀 2022-12-22 Python-3.8.16 torch-1.13.0+cu116 CUDA:0 (Tesla T4, 15110MiB)\n",
            "\n",
            "Fusing layers... \n",
            "YOLOv5s summary: 213 layers, 7225885 parameters, 0 gradients\n",
            "Adding AutoShape... \n",
            "image 1/1: 482x640 2 persons, 1 handbag, 1 tie\n",
            "Speed: 1.8ms pre-process, 11.1ms inference, 1.5ms NMS per image at shape (1, 3, 512, 640)\n",
            "image 1/1: 640x480 1 person, 1 bottle, 3 cups, 2 bowls, 1 sandwich, 1 chair, 1 couch, 1 dining table, 1 vase\n",
            "Speed: 1.3ms pre-process, 11.6ms inference, 1.5ms NMS per image at shape (1, 3, 640, 480)\n",
            "image 1/1: 480x640 11 persons, 4 motorcycles\n",
            "Speed: 1.3ms pre-process, 10.7ms inference, 1.2ms NMS per image at shape (1, 3, 480, 640)\n",
            "image 1/1: 480x640 5 bottles, 3 bowls, 2 sinks, 1 clock\n",
            "Speed: 1.2ms pre-process, 10.6ms inference, 1.1ms NMS per image at shape (1, 3, 480, 640)\n",
            "image 1/1: 480x640 2 bowls, 1 chair, 1 dining table, 1 tv, 2 microwaves, 1 oven, 1 sink, 1 refrigerator, 1 clock\n",
            "Speed: 1.2ms pre-process, 10.6ms inference, 1.1ms NMS per image at shape (1, 3, 480, 640)\n"
          ]
        },
        {
          "output_type": "stream",
          "name": "stdout",
          "text": [
            "[          1           0           0           0           0           0           0           0           0           0]\n",
            "[          1           0           0           0           0           0           0           0           0           0]\n",
            "[          1           0           0           0           0           0           0           0           0           0]\n",
            "[          0           0           0           0           0           0           0           0           0           0]\n",
            "[          0           0           0           0           0           0           0           0           0           0]\n"
          ]
        },
        {
          "output_type": "stream",
          "name": "stderr",
          "text": [
            "image 1/1: 282x425 1 person, 1 tie, 2 laptops, 1 remote\n",
            "Speed: 6.6ms pre-process, 36.9ms inference, 4.5ms NMS per image at shape (1, 3, 448, 640)\n"
          ]
        },
        {
          "output_type": "stream",
          "name": "stdout",
          "text": [
            "[          0           1           0           0           0           0           0           0           0           0]\n"
          ]
        },
        {
          "output_type": "stream",
          "name": "stderr",
          "text": [
            "image 1/1: 428x640 1 vase\n",
            "Speed: 1.6ms pre-process, 10.5ms inference, 1.3ms NMS per image at shape (1, 3, 448, 640)\n",
            "image 1/1: 640x425 2 persons, 1 bottle, 2 bowls, 1 oven\n",
            "Speed: 1.2ms pre-process, 10.1ms inference, 1.8ms NMS per image at shape (1, 3, 640, 448)\n",
            "image 1/1: 427x640 6 persons, 4 bottles, 1 cup, 4 bowls, 1 sink\n",
            "Speed: 1.4ms pre-process, 10.5ms inference, 1.2ms NMS per image at shape (1, 3, 448, 640)\n",
            "image 1/1: 500x375 2 persons\n",
            "Speed: 2.0ms pre-process, 10.3ms inference, 1.1ms NMS per image at shape (1, 3, 640, 480)\n",
            "image 1/1: 640x407 1 person, 3 bottles, 1 oven\n",
            "Speed: 1.1ms pre-process, 9.8ms inference, 1.1ms NMS per image at shape (1, 3, 640, 416)\n",
            "image 1/1: 396x640 3 persons, 1 bottle, 5 bowls, 1 refrigerator\n",
            "Speed: 1.4ms pre-process, 12.5ms inference, 1.4ms NMS per image at shape (1, 3, 416, 640)\n",
            "image 1/1: 480x640 1 car, 1 dog\n",
            "Speed: 1.3ms pre-process, 10.7ms inference, 1.2ms NMS per image at shape (1, 3, 480, 640)\n"
          ]
        },
        {
          "output_type": "stream",
          "name": "stdout",
          "text": [
            "[          0           0           0           0           0           0           0           0           0           0]\n",
            "[          1           0           0           0           0           0           0           0           0           0]\n",
            "[          1           0           0           0           0           0           0           0           0           0]\n",
            "[          1           0           0           0           0           0           0           0           0           0]\n",
            "[          1           0           0           0           0           0           0           0           0           0]\n",
            "[          1           0           0           0           0           0           0           0           0           0]\n",
            "[          0           0           0           0           0           0           1           0           0           0]\n"
          ]
        },
        {
          "output_type": "stream",
          "name": "stderr",
          "text": [
            "image 1/1: 640x478 1 person, 1 tv, 2 sinks\n",
            "Speed: 1.4ms pre-process, 10.9ms inference, 2.0ms NMS per image at shape (1, 3, 640, 480)\n",
            "image 1/1: 375x500 2 bottles, 1 toilet, 1 sink\n",
            "Speed: 2.1ms pre-process, 10.7ms inference, 1.1ms NMS per image at shape (1, 3, 480, 640)\n",
            "image 1/1: 427x640 5 persons, 1 bicycle, 4 motorcycles\n",
            "Speed: 1.2ms pre-process, 10.5ms inference, 1.2ms NMS per image at shape (1, 3, 448, 640)\n",
            "image 1/1: 640x550 1 person, 1 bed, 1 tv, 2 sinks\n",
            "Speed: 1.6ms pre-process, 13.1ms inference, 1.2ms NMS per image at shape (1, 3, 640, 576)\n",
            "image 1/1: 478x640 2 toilets, 1 sink\n",
            "Speed: 1.3ms pre-process, 10.7ms inference, 1.2ms NMS per image at shape (1, 3, 480, 640)\n",
            "image 1/1: 640x426 2 bottles, 1 cup, 1 toilet, 1 sink\n",
            "Speed: 1.3ms pre-process, 10.1ms inference, 1.1ms NMS per image at shape (1, 3, 640, 448)\n",
            "image 1/1: 640x360 1 dog, 1 bottle, 1 toilet, 1 sink\n",
            "Speed: 1.1ms pre-process, 9.9ms inference, 1.2ms NMS per image at shape (1, 3, 640, 384)\n"
          ]
        },
        {
          "output_type": "stream",
          "name": "stdout",
          "text": [
            "[          0           0           0           0           0           0           0           0           0           0]\n",
            "[          0           0           0           0           0           0           0           0           0           0]\n",
            "[          1           0           0           0           0           0           0           0           0           0]\n",
            "[          1           0           0           0           0           0           0           0           0           0]\n",
            "[          0           0           0           0           0           0           0           0           0           0]\n",
            "[          0           0           0           0           0           0           0           0           0           0]\n",
            "[          0           0           0           0           0           0           1           0           0           0]\n"
          ]
        },
        {
          "output_type": "stream",
          "name": "stderr",
          "text": [
            "image 1/1: 480x640 2 cars, 1 dog, 1 suitcase, 1 potted plant\n",
            "Speed: 1.3ms pre-process, 10.7ms inference, 1.1ms NMS per image at shape (1, 3, 480, 640)\n",
            "image 1/1: 485x640 5 persons, 4 cars, 2 dogs\n",
            "Speed: 1.7ms pre-process, 11.0ms inference, 1.3ms NMS per image at shape (1, 3, 512, 640)\n",
            "image 1/1: 426x640 1 car, 1 airplane\n",
            "Speed: 1.3ms pre-process, 15.8ms inference, 1.3ms NMS per image at shape (1, 3, 448, 640)\n",
            "image 1/1: 480x640 1 person, 3 cars, 1 motorcycle, 1 bus, 1 truck\n",
            "Speed: 1.4ms pre-process, 10.7ms inference, 1.2ms NMS per image at shape (1, 3, 480, 640)\n",
            "image 1/1: 421x640 5 persons, 1 car, 1 tie\n",
            "Speed: 1.3ms pre-process, 10.5ms inference, 1.1ms NMS per image at shape (1, 3, 448, 640)\n",
            "image 1/1: 427x640 6 persons\n",
            "Speed: 1.3ms pre-process, 10.4ms inference, 1.8ms NMS per image at shape (1, 3, 448, 640)\n",
            "image 1/1: 640x480 6 bottles, 1 cup, 1 bowl, 2 toilets\n",
            "Speed: 1.2ms pre-process, 10.3ms inference, 1.1ms NMS per image at shape (1, 3, 640, 480)\n"
          ]
        },
        {
          "output_type": "stream",
          "name": "stdout",
          "text": [
            "[          0           0           0           1           0           0           0           0           0           0]\n",
            "[          0           0           0           0           0           0           1           0           0           0]\n",
            "[          0           0           0           1           0           0           0           0           0           0]\n",
            "[          0           0           0           1           0           0           0           0           0           0]\n",
            "[          1           0           0           0           0           0           0           0           0           0]\n",
            "[          1           0           0           0           0           0           0           0           0           0]\n",
            "[          0           0           0           0           0           0           0           0           0           0]\n"
          ]
        },
        {
          "output_type": "stream",
          "name": "stderr",
          "text": [
            "image 1/1: 480x640 1 microwave\n",
            "Speed: 1.6ms pre-process, 10.8ms inference, 1.1ms NMS per image at shape (1, 3, 480, 640)\n",
            "image 1/1: 384x640 1 cup\n",
            "Speed: 1.1ms pre-process, 9.0ms inference, 1.1ms NMS per image at shape (1, 3, 384, 640)\n",
            "image 1/1: 426x640 1 bottle, 1 tv, 1 laptop, 2 mouses, 2 keyboards, 11 books\n",
            "Speed: 1.7ms pre-process, 10.9ms inference, 1.2ms NMS per image at shape (1, 3, 448, 640)\n",
            "image 1/1: 480x640 1 bear\n",
            "Speed: 1.3ms pre-process, 10.7ms inference, 1.1ms NMS per image at shape (1, 3, 480, 640)\n",
            "image 1/1: 480x640 4 persons, 2 cups, 1 chair, 1 potted plant, 2 tvs, 1 laptop, 2 keyboards, 1 cell phone\n",
            "Speed: 1.3ms pre-process, 10.7ms inference, 1.4ms NMS per image at shape (1, 3, 480, 640)\n",
            "image 1/1: 640x640 1 bowl, 3 oranges\n",
            "Speed: 1.8ms pre-process, 13.6ms inference, 1.2ms NMS per image at shape (1, 3, 640, 640)\n",
            "image 1/1: 427x640 1 motorcycle\n",
            "Speed: 1.3ms pre-process, 10.6ms inference, 1.1ms NMS per image at shape (1, 3, 448, 640)\n"
          ]
        },
        {
          "output_type": "stream",
          "name": "stdout",
          "text": [
            "[          0           0           0           0           0           0           0           0           0           0]\n",
            "[          0           0           0           0           0           0           0           0           0           0]\n",
            "[          0           1           0           0           0           0           0           0           0           0]\n",
            "[          0           0           0           0           0           0           1           0           0           0]\n",
            "[          0           1           0           0           0           0           0           0           0           0]\n",
            "[          0           0           0           0           0           1           0           0           0           0]\n",
            "[          0           0           0           0           0           0           0           0           0           0]\n"
          ]
        },
        {
          "output_type": "stream",
          "name": "stderr",
          "text": [
            "image 1/1: 480x640 1 person, 2 motorcycles\n",
            "Speed: 1.4ms pre-process, 13.0ms inference, 1.2ms NMS per image at shape (1, 3, 480, 640)\n",
            "image 1/1: 427x640 1 person, 1 bicycle, 1 motorcycle\n",
            "Speed: 1.3ms pre-process, 10.5ms inference, 1.2ms NMS per image at shape (1, 3, 448, 640)\n",
            "image 1/1: 434x640 13 persons, 1 bowl, 5 chairs, 1 tv, 1 clock\n",
            "Speed: 1.3ms pre-process, 10.4ms inference, 1.2ms NMS per image at shape (1, 3, 448, 640)\n",
            "image 1/1: 640x246 1 person, 1 handbag, 1 tie\n",
            "Speed: 0.9ms pre-process, 9.8ms inference, 1.2ms NMS per image at shape (1, 3, 640, 256)\n",
            "image 1/1: 246x640 10 persons, 10 motorcycles\n",
            "Speed: 1.1ms pre-process, 12.0ms inference, 1.4ms NMS per image at shape (1, 3, 256, 640)\n",
            "image 1/1: 360x640 (no detections)\n",
            "Speed: 1.1ms pre-process, 11.6ms inference, 0.8ms NMS per image at shape (1, 3, 384, 640)\n",
            "image 1/1: 426x640 2 chairs, 2 beds, 1 tv, 1 clock\n",
            "Speed: 1.3ms pre-process, 10.5ms inference, 1.1ms NMS per image at shape (1, 3, 448, 640)\n",
            "image 1/1: 480x640 1 cat, 1 dog, 1 dining table, 2 tvs, 1 laptop, 2 books\n",
            "Speed: 1.3ms pre-process, 10.7ms inference, 1.2ms NMS per image at shape (1, 3, 480, 640)\n"
          ]
        },
        {
          "output_type": "stream",
          "name": "stdout",
          "text": [
            "[          1           0           0           0           0           0           0           0           0           0]\n",
            "[          1           0           0           0           0           0           0           0           0           0]\n",
            "[          1           0           0           0           0           0           0           0           0           0]\n",
            "[          1           0           0           0           0           0           0           0           0           0]\n",
            "[          1           0           0           0           0           0           0           0           0           0]\n",
            "[          0           0           0           0           0           0           0           0           0           0]\n",
            "[          0           0           0           0           0           0           0           0           0           1]\n"
          ]
        },
        {
          "output_type": "stream",
          "name": "stderr",
          "text": [
            "image 1/1: 427x640 1 person, 1 airplane\n",
            "Speed: 1.3ms pre-process, 10.5ms inference, 1.4ms NMS per image at shape (1, 3, 448, 640)\n",
            "image 1/1: 427x640 5 cars, 1 airplane, 2 trucks\n",
            "Speed: 1.2ms pre-process, 10.4ms inference, 1.2ms NMS per image at shape (1, 3, 448, 640)\n",
            "image 1/1: 495x640 1 airplane, 1 sports ball\n",
            "Speed: 1.5ms pre-process, 10.9ms inference, 1.3ms NMS per image at shape (1, 3, 512, 640)\n",
            "image 1/1: 425x640 1 airplane\n",
            "Speed: 1.5ms pre-process, 10.6ms inference, 1.1ms NMS per image at shape (1, 3, 448, 640)\n",
            "image 1/1: 480x640 1 airplane, 2 parking meters\n",
            "Speed: 1.3ms pre-process, 10.7ms inference, 1.2ms NMS per image at shape (1, 3, 480, 640)\n",
            "image 1/1: 640x480 7 persons, 1 car, 2 traffic lights, 1 bench\n",
            "Speed: 1.3ms pre-process, 10.3ms inference, 1.4ms NMS per image at shape (1, 3, 640, 480)\n",
            "image 1/1: 375x500 2 giraffes\n",
            "Speed: 2.1ms pre-process, 10.7ms inference, 1.3ms NMS per image at shape (1, 3, 480, 640)\n"
          ]
        },
        {
          "output_type": "stream",
          "name": "stdout",
          "text": [
            "[          0           0           0           0           0           0           1           0           0           0]\n",
            "[          0           0           0           1           0           0           0           0           0           0]\n",
            "[          0           0           0           1           0           0           0           0           0           0]\n",
            "[          0           0           0           1           0           0           0           0           0           0]\n",
            "[          0           0           0           1           0           0           0           0           0           0]\n",
            "[          0           0           0           1           0           0           0           0           0           0]\n",
            "[          1           0           0           0           0           0           0           0           0           0]\n"
          ]
        },
        {
          "output_type": "stream",
          "name": "stderr",
          "text": [
            "image 1/1: 427x640 1 giraffe\n",
            "Speed: 1.3ms pre-process, 10.5ms inference, 1.2ms NMS per image at shape (1, 3, 448, 640)\n",
            "image 1/1: 427x640 3 persons, 2 airplanes\n",
            "Speed: 1.2ms pre-process, 10.4ms inference, 1.5ms NMS per image at shape (1, 3, 448, 640)\n",
            "image 1/1: 480x640 2 persons, 9 cars, 2 trucks, 1 traffic light\n",
            "Speed: 1.3ms pre-process, 10.7ms inference, 1.1ms NMS per image at shape (1, 3, 480, 640)\n",
            "image 1/1: 640x640 1 bench, 1 cat\n",
            "Speed: 1.8ms pre-process, 13.6ms inference, 1.1ms NMS per image at shape (1, 3, 640, 640)\n",
            "image 1/1: 375x500 1 bench, 1 dog\n",
            "Speed: 2.0ms pre-process, 10.7ms inference, 1.1ms NMS per image at shape (1, 3, 480, 640)\n",
            "image 1/1: 332x500 1 bird, 3 zebras, 4 giraffes\n",
            "Speed: 2.6ms pre-process, 11.6ms inference, 1.2ms NMS per image at shape (1, 3, 448, 640)\n"
          ]
        },
        {
          "output_type": "stream",
          "name": "stdout",
          "text": [
            "[          0           0           0           0           0           0           1           0           0           0]\n",
            "[          0           0           0           0           0           0           1           0           0           0]\n",
            "[          0           0           0           1           0           0           0           0           0           0]\n",
            "[          0           0           0           1           0           0           0           0           0           0]\n",
            "[          0           0           0           0           0           0           1           0           0           0]\n",
            "[          0           0           0           0           0           0           1           0           0           0]\n",
            "[          0           0           0           0           0           0           1           0           0           0]\n"
          ]
        },
        {
          "output_type": "stream",
          "name": "stderr",
          "text": [
            "image 1/1: 640x480 2 giraffes\n",
            "Speed: 1.6ms pre-process, 10.6ms inference, 1.2ms NMS per image at shape (1, 3, 640, 480)\n",
            "image 1/1: 612x612 1 giraffe\n",
            "Speed: 2.8ms pre-process, 13.5ms inference, 1.2ms NMS per image at shape (1, 3, 640, 640)\n",
            "image 1/1: 480x640 2 sheeps\n",
            "Speed: 1.4ms pre-process, 10.8ms inference, 1.3ms NMS per image at shape (1, 3, 480, 640)\n",
            "image 1/1: 640x480 1 person, 1 traffic light\n",
            "Speed: 1.3ms pre-process, 10.3ms inference, 1.2ms NMS per image at shape (1, 3, 640, 480)\n",
            "image 1/1: 478x640 1 car, 2 traffic lights, 1 dog\n",
            "Speed: 1.4ms pre-process, 10.7ms inference, 1.2ms NMS per image at shape (1, 3, 480, 640)\n",
            "image 1/1: 360x640 2 persons, 1 car, 2 buss\n",
            "Speed: 1.1ms pre-process, 10.3ms inference, 1.2ms NMS per image at shape (1, 3, 384, 640)\n",
            "image 1/1: 500x375 1 sheep\n",
            "Speed: 2.1ms pre-process, 10.3ms inference, 1.3ms NMS per image at shape (1, 3, 640, 480)\n"
          ]
        },
        {
          "output_type": "stream",
          "name": "stdout",
          "text": [
            "[          0           0           0           0           0           0           1           0           0           0]\n",
            "[          0           0           0           0           0           0           1           0           0           0]\n",
            "[          0           0           0           0           0           0           1           0           0           0]\n",
            "[          1           0           0           0           0           0           0           0           0           0]\n",
            "[          0           0           0           0           0           0           1           0           0           0]\n",
            "[          0           0           0           1           0           0           0           0           0           0]\n",
            "[          0           0           0           0           0           0           1           0           0           0]\n"
          ]
        },
        {
          "output_type": "stream",
          "name": "stderr",
          "text": [
            "image 1/1: 640x480 1 person, 1 bench\n",
            "Speed: 2.3ms pre-process, 12.8ms inference, 1.2ms NMS per image at shape (1, 3, 640, 480)\n",
            "image 1/1: 512x640 1 car, 1 bus\n",
            "Speed: 1.4ms pre-process, 10.9ms inference, 1.2ms NMS per image at shape (1, 3, 512, 640)\n",
            "image 1/1: 428x640 5 sheeps\n",
            "Speed: 1.5ms pre-process, 10.8ms inference, 1.3ms NMS per image at shape (1, 3, 448, 640)\n",
            "image 1/1: 480x640 2 persons, 2 buss\n",
            "Speed: 1.4ms pre-process, 10.7ms inference, 1.4ms NMS per image at shape (1, 3, 480, 640)\n",
            "image 1/1: 480x640 6 buss\n",
            "Speed: 1.4ms pre-process, 10.7ms inference, 1.2ms NMS per image at shape (1, 3, 480, 640)\n",
            "image 1/1: 437x640 3 persons, 11 cars, 1 airplane, 1 chair\n",
            "Speed: 1.3ms pre-process, 10.5ms inference, 1.2ms NMS per image at shape (1, 3, 448, 640)\n",
            "image 1/1: 480x640 2 persons, 3 cars, 1 bus\n",
            "Speed: 1.3ms pre-process, 10.7ms inference, 1.1ms NMS per image at shape (1, 3, 480, 640)\n"
          ]
        },
        {
          "output_type": "stream",
          "name": "stdout",
          "text": [
            "[          1           0           0           0           0           0           0           0           0           0]\n",
            "[          0           0           0           1           0           0           0           0           0           0]\n",
            "[          0           0           0           0           0           0           1           0           0           0]\n",
            "[          1           0           0           0           0           0           0           0           0           0]\n",
            "[          0           0           0           1           0           0           0           0           0           0]\n",
            "[          0           0           0           1           0           0           0           0           0           0]\n",
            "[          0           0           0           1           0           0           0           0           0           0]\n"
          ]
        },
        {
          "output_type": "stream",
          "name": "stderr",
          "text": [
            "image 1/1: 375x500 2 giraffes\n",
            "Speed: 2.1ms pre-process, 12.8ms inference, 1.2ms NMS per image at shape (1, 3, 480, 640)\n",
            "image 1/1: 427x640 12 boats, 13 birds\n",
            "Speed: 1.2ms pre-process, 10.4ms inference, 1.2ms NMS per image at shape (1, 3, 448, 640)\n",
            "image 1/1: 427x640 1 bird, 1 kite\n",
            "Speed: 1.2ms pre-process, 10.4ms inference, 3.0ms NMS per image at shape (1, 3, 448, 640)\n",
            "image 1/1: 480x640 4 birds\n",
            "Speed: 1.4ms pre-process, 10.7ms inference, 1.3ms NMS per image at shape (1, 3, 480, 640)\n",
            "image 1/1: 431x640 1 train\n",
            "Speed: 1.2ms pre-process, 10.5ms inference, 1.1ms NMS per image at shape (1, 3, 448, 640)\n",
            "image 1/1: 427x640 17 persons, 1 bicycle, 3 birds, 1 chair, 3 potted plants\n",
            "Speed: 1.2ms pre-process, 10.4ms inference, 1.2ms NMS per image at shape (1, 3, 448, 640)\n",
            "image 1/1: 500x375 4 persons, 1 chair\n",
            "Speed: 2.0ms pre-process, 10.4ms inference, 1.1ms NMS per image at shape (1, 3, 640, 480)\n"
          ]
        },
        {
          "output_type": "stream",
          "name": "stdout",
          "text": [
            "[          0           0           0           0           0           0           1           0           0           0]\n",
            "[          0           0           0           0           0           0           0           0           0           0]\n",
            "[          0           0           0           0           0           0           0           0           0           0]\n",
            "[          0           0           0           0           0           0           0           0           0           0]\n",
            "[          0           0           0           0           0           0           0           0           0           0]\n",
            "[          1           0           0           0           0           0           0           0           0           0]\n",
            "[          0           0           0           0           0           0           0           0           0           0]\n"
          ]
        },
        {
          "output_type": "stream",
          "name": "stderr",
          "text": [
            "image 1/1: 640x464 2 persons, 1 backpack, 1 umbrella\n",
            "Speed: 1.4ms pre-process, 10.3ms inference, 1.2ms NMS per image at shape (1, 3, 640, 480)\n",
            "image 1/1: 640x624 1 train\n",
            "Speed: 1.7ms pre-process, 13.5ms inference, 1.2ms NMS per image at shape (1, 3, 640, 640)\n",
            "image 1/1: 480x640 1 person\n",
            "Speed: 1.4ms pre-process, 10.7ms inference, 1.1ms NMS per image at shape (1, 3, 480, 640)\n",
            "image 1/1: 480x640 3 birds, 1 sheep\n",
            "Speed: 1.3ms pre-process, 11.4ms inference, 1.1ms NMS per image at shape (1, 3, 480, 640)\n",
            "image 1/1: 427x640 1 car, 1 train, 3 traffic lights\n",
            "Speed: 1.2ms pre-process, 10.4ms inference, 1.1ms NMS per image at shape (1, 3, 448, 640)\n",
            "image 1/1: 428x640 4 persons, 1 train\n",
            "Speed: 1.4ms pre-process, 10.6ms inference, 1.2ms NMS per image at shape (1, 3, 448, 640)\n",
            "image 1/1: 423x640 3 persons, 1 train\n",
            "Speed: 1.2ms pre-process, 10.4ms inference, 1.1ms NMS per image at shape (1, 3, 448, 640)\n"
          ]
        },
        {
          "output_type": "stream",
          "name": "stdout",
          "text": [
            "[          1           0           0           0           0           0           0           0           0           0]\n",
            "[          0           0           0           0           0           0           0           0           0           0]\n",
            "[          0           0           0           0           0           0           0           0           0           0]\n",
            "[          0           0           0           0           0           0           1           0           0           0]\n",
            "[          0           0           0           1           0           0           0           0           0           0]\n",
            "[          1           0           0           0           0           0           0           0           0           0]\n",
            "[          1           0           0           0           0           0           0           0           0           0]\n"
          ]
        },
        {
          "output_type": "stream",
          "name": "stderr",
          "text": [
            "image 1/1: 360x640 12 persons, 1 train, 2 backpacks, 1 handbag, 5 suitcases\n",
            "Speed: 1.1ms pre-process, 11.6ms inference, 1.2ms NMS per image at shape (1, 3, 384, 640)\n",
            "image 1/1: 480x640 1 person, 2 bicycles, 1 bus, 1 train, 2 benchs, 1 backpack, 1 cup, 1 laptop\n",
            "Speed: 2.0ms pre-process, 10.7ms inference, 1.1ms NMS per image at shape (1, 3, 480, 640)\n",
            "image 1/1: 360x640 1 train\n",
            "Speed: 1.1ms pre-process, 9.8ms inference, 1.2ms NMS per image at shape (1, 3, 384, 640)\n",
            "image 1/1: 480x640 6 persons, 4 cars, 1 traffic light, 12 chairs\n",
            "Speed: 1.4ms pre-process, 10.8ms inference, 1.8ms NMS per image at shape (1, 3, 480, 640)\n",
            "image 1/1: 427x640 7 persons, 1 train\n",
            "Speed: 1.5ms pre-process, 10.6ms inference, 1.2ms NMS per image at shape (1, 3, 448, 640)\n",
            "image 1/1: 480x640 1 cat, 1 suitcase\n",
            "Speed: 1.3ms pre-process, 10.7ms inference, 1.2ms NMS per image at shape (1, 3, 480, 640)\n",
            "image 1/1: 458x640 1 cow\n",
            "Speed: 1.3ms pre-process, 10.7ms inference, 1.2ms NMS per image at shape (1, 3, 480, 640)\n"
          ]
        },
        {
          "output_type": "stream",
          "name": "stdout",
          "text": [
            "[          1           0           0           0           0           0           0           0           0           0]\n",
            "[          1           0           0           0           0           0           0           0           0           0]\n",
            "[          0           0           0           0           0           0           0           0           0           0]\n",
            "[          1           0           0           0           0           0           0           0           0           0]\n",
            "[          1           0           0           0           0           0           0           0           0           0]\n",
            "[          0           0           0           0           0           0           1           0           0           0]\n",
            "[          0           0           0           0           0           0           0           0           0           0]\n"
          ]
        },
        {
          "output_type": "stream",
          "name": "stderr",
          "text": [
            "image 1/1: 391x640 2 persons, 2 cars, 1 truck\n",
            "Speed: 1.2ms pre-process, 13.3ms inference, 1.2ms NMS per image at shape (1, 3, 416, 640)\n",
            "image 1/1: 586x640 (no detections)\n",
            "Speed: 1.7ms pre-process, 13.8ms inference, 0.7ms NMS per image at shape (1, 3, 608, 640)\n",
            "image 1/1: 428x640 4 cows\n",
            "Speed: 1.6ms pre-process, 12.8ms inference, 1.6ms NMS per image at shape (1, 3, 448, 640)\n",
            "image 1/1: 480x640 4 cars, 1 bus, 2 trucks\n",
            "Speed: 1.4ms pre-process, 10.7ms inference, 1.1ms NMS per image at shape (1, 3, 480, 640)\n",
            "image 1/1: 480x640 1 cat, 1 chair, 1 tv, 1 laptop\n",
            "Speed: 1.4ms pre-process, 10.7ms inference, 1.1ms NMS per image at shape (1, 3, 480, 640)\n",
            "image 1/1: 480x640 2 sheeps, 2 cows\n",
            "Speed: 1.3ms pre-process, 10.7ms inference, 1.2ms NMS per image at shape (1, 3, 480, 640)\n",
            "image 1/1: 640x425 1 person, 1 tie\n",
            "Speed: 1.3ms pre-process, 14.0ms inference, 2.2ms NMS per image at shape (1, 3, 640, 448)\n"
          ]
        },
        {
          "output_type": "stream",
          "name": "stdout",
          "text": [
            "[          1           0           0           0           0           0           0           0           0           0]\n",
            "[          0           0           0           0           0           0           0           0           0           0]\n",
            "[          0           0           0           0           0           0           0           0           0           0]\n",
            "[          0           0           0           1           0           0           0           0           0           0]\n",
            "[          0           0           0           0           0           0           1           0           0           0]\n",
            "[          0           0           0           0           0           0           1           0           0           0]\n",
            "[          1           0           0           0           0           0           0           0           0           0]\n"
          ]
        },
        {
          "output_type": "stream",
          "name": "stderr",
          "text": [
            "image 1/1: 480x640 2 persons, 20 birds, 2 cows, 1 bowl\n",
            "Speed: 1.4ms pre-process, 10.7ms inference, 1.5ms NMS per image at shape (1, 3, 480, 640)\n",
            "image 1/1: 425x640 2 elephants\n",
            "Speed: 1.2ms pre-process, 10.5ms inference, 1.2ms NMS per image at shape (1, 3, 448, 640)\n",
            "image 1/1: 640x426 4 persons, 1 wine glass\n",
            "Speed: 1.3ms pre-process, 10.1ms inference, 1.1ms NMS per image at shape (1, 3, 640, 448)\n",
            "image 1/1: 640x539 2 persons, 4 boats, 1 sports ball\n",
            "Speed: 1.5ms pre-process, 13.4ms inference, 1.1ms NMS per image at shape (1, 3, 640, 544)\n",
            "image 1/1: 425x640 13 persons, 1 tie, 2 wine glasss, 3 dining tables\n",
            "Speed: 1.5ms pre-process, 11.1ms inference, 1.2ms NMS per image at shape (1, 3, 448, 640)\n",
            "image 1/1: 480x640 3 persons, 1 tie\n",
            "Speed: 1.3ms pre-process, 10.7ms inference, 1.2ms NMS per image at shape (1, 3, 480, 640)\n",
            "image 1/1: 333x500 3 persons, 1 bicycle, 2 cars, 1 umbrella, 1 chair\n",
            "Speed: 1.9ms pre-process, 10.5ms inference, 1.2ms NMS per image at shape (1, 3, 448, 640)\n",
            "image 1/1: 428x640 11 persons, 4 ties\n",
            "Speed: 1.3ms pre-process, 10.4ms inference, 1.2ms NMS per image at shape (1, 3, 448, 640)\n"
          ]
        },
        {
          "output_type": "stream",
          "name": "stdout",
          "text": [
            "[          1           0           0           0           0           0           0           0           0           0]\n",
            "[          0           0           0           0           0           0           1           0           0           0]\n",
            "[          1           0           0           0           0           0           0           0           0           0]\n",
            "[          0           0           0           0           0           0           0           0           0           0]\n",
            "[          1           0           0           0           0           0           0           0           0           0]\n",
            "[          1           0           0           0           0           0           0           0           0           0]\n",
            "[          1           0           0           0           0           0           0           0           0           0]\n"
          ]
        },
        {
          "output_type": "stream",
          "name": "stderr",
          "text": [
            "image 1/1: 480x640 1 elephant\n",
            "Speed: 1.4ms pre-process, 10.8ms inference, 1.2ms NMS per image at shape (1, 3, 480, 640)\n",
            "image 1/1: 640x427 1 person, 1 tie, 1 bowl\n",
            "Speed: 1.3ms pre-process, 10.1ms inference, 1.1ms NMS per image at shape (1, 3, 640, 448)\n",
            "image 1/1: 480x640 2 persons, 1 car, 2 ties\n",
            "Speed: 1.4ms pre-process, 10.8ms inference, 1.1ms NMS per image at shape (1, 3, 480, 640)\n",
            "image 1/1: 500x375 3 persons\n",
            "Speed: 2.0ms pre-process, 10.3ms inference, 1.1ms NMS per image at shape (1, 3, 640, 480)\n",
            "image 1/1: 640x478 1 person, 1 umbrella, 2 handbags\n",
            "Speed: 1.3ms pre-process, 10.3ms inference, 1.2ms NMS per image at shape (1, 3, 640, 480)\n",
            "image 1/1: 480x640 2 persons, 1 bird, 1 elephant\n",
            "Speed: 1.4ms pre-process, 10.8ms inference, 1.3ms NMS per image at shape (1, 3, 480, 640)\n",
            "image 1/1: 466x640 1 boat, 3 elephants\n",
            "Speed: 1.3ms pre-process, 10.7ms inference, 1.1ms NMS per image at shape (1, 3, 480, 640)\n"
          ]
        },
        {
          "output_type": "stream",
          "name": "stdout",
          "text": [
            "[          1           0           0           0           0           0           0           0           0           0]\n",
            "[          0           0           0           0           0           0           1           0           0           0]\n",
            "[          1           0           0           0           0           0           0           0           0           0]\n",
            "[          1           0           0           0           0           0           0           0           0           0]\n",
            "[          1           0           0           0           0           0           0           0           0           0]\n",
            "[          1           0           0           0           0           0           0           0           0           0]\n",
            "[          1           0           0           0           0           0           0           0           0           0]\n"
          ]
        },
        {
          "output_type": "stream",
          "name": "stderr",
          "text": [
            "image 1/1: 427x640 2 persons, 1 boat, 2 elephants, 1 chair\n",
            "Speed: 1.4ms pre-process, 10.5ms inference, 1.1ms NMS per image at shape (1, 3, 448, 640)\n",
            "image 1/1: 536x640 2 persons, 1 tie\n",
            "Speed: 1.5ms pre-process, 19.1ms inference, 1.4ms NMS per image at shape (1, 3, 544, 640)\n",
            "image 1/1: 427x640 5 elephants\n",
            "Speed: 1.5ms pre-process, 10.5ms inference, 1.2ms NMS per image at shape (1, 3, 448, 640)\n",
            "image 1/1: 426x640 1 cat, 2 dogs, 1 suitcase, 1 bed, 2 books\n",
            "Speed: 1.3ms pre-process, 10.4ms inference, 1.1ms NMS per image at shape (1, 3, 448, 640)\n",
            "image 1/1: 480x640 2 persons, 1 backpack, 1 suitcase\n",
            "Speed: 1.3ms pre-process, 10.7ms inference, 1.1ms NMS per image at shape (1, 3, 480, 640)\n",
            "image 1/1: 427x640 8 persons, 1 bench, 1 handbag, 1 tie, 1 suitcase, 1 wine glass, 2 cups, 1 dining table\n",
            "Speed: 1.3ms pre-process, 10.5ms inference, 1.1ms NMS per image at shape (1, 3, 448, 640)\n"
          ]
        },
        {
          "output_type": "stream",
          "name": "stdout",
          "text": [
            "[          0           0           0           0           0           0           1           0           0           0]\n",
            "[          0           0           0           0           0           0           1           0           0           0]\n",
            "[          1           0           0           0           0           0           0           0           0           0]\n",
            "[          0           0           0           0           0           0           1           0           0           0]\n",
            "[          0           0           0           0           0           0           1           0           0           0]\n",
            "[          1           0           0           0           0           0           0           0           0           0]\n",
            "[          1           0           0           0           0           0           0           0           0           0]\n"
          ]
        },
        {
          "output_type": "stream",
          "name": "stderr",
          "text": [
            "image 1/1: 480x640 1 cow, 2 elephants\n",
            "Speed: 1.7ms pre-process, 13.1ms inference, 1.2ms NMS per image at shape (1, 3, 480, 640)\n",
            "image 1/1: 640x428 1 person, 1 dog, 1 skis\n",
            "Speed: 1.7ms pre-process, 11.7ms inference, 1.2ms NMS per image at shape (1, 3, 640, 448)\n",
            "image 1/1: 375x500 2 persons, 1 horse, 1 backpack\n",
            "Speed: 2.0ms pre-process, 10.7ms inference, 1.1ms NMS per image at shape (1, 3, 480, 640)\n",
            "image 1/1: 426x640 2 persons, 8 cars, 1 motorcycle, 2 suitcases\n",
            "Speed: 1.2ms pre-process, 10.5ms inference, 1.1ms NMS per image at shape (1, 3, 448, 640)\n",
            "image 1/1: 601x640 1 dog, 1 cake\n",
            "Speed: 1.7ms pre-process, 13.2ms inference, 1.1ms NMS per image at shape (1, 3, 608, 640)\n",
            "image 1/1: 480x640 1 dog, 1 frisbee\n",
            "Speed: 1.4ms pre-process, 10.7ms inference, 1.1ms NMS per image at shape (1, 3, 480, 640)\n",
            "image 1/1: 425x640 1 bear, 3 sports balls\n",
            "Speed: 1.3ms pre-process, 10.5ms inference, 1.1ms NMS per image at shape (1, 3, 448, 640)\n"
          ]
        },
        {
          "output_type": "stream",
          "name": "stdout",
          "text": [
            "[          0           0           0           0           0           0           1           0           0           0]\n",
            "[          1           0           0           0           0           0           0           0           0           0]\n",
            "[          1           0           0           0           0           0           0           0           0           0]\n",
            "[          0           0           0           1           0           0           0           0           0           0]\n",
            "[          0           0           0           0           0           0           1           0           0           0]\n",
            "[          0           0           0           0           0           0           1           0           0           0]\n",
            "[          0           0           0           0           0           0           1           0           0           0]\n"
          ]
        },
        {
          "output_type": "stream",
          "name": "stderr",
          "text": [
            "image 1/1: 334x500 1 bird, 1 cat\n",
            "Speed: 1.9ms pre-process, 12.2ms inference, 1.1ms NMS per image at shape (1, 3, 448, 640)\n",
            "image 1/1: 427x640 1 dog, 1 frisbee\n",
            "Speed: 1.2ms pre-process, 10.4ms inference, 1.2ms NMS per image at shape (1, 3, 448, 640)\n",
            "image 1/1: 480x640 5 persons, 2 frisbees\n",
            "Speed: 1.4ms pre-process, 10.8ms inference, 1.2ms NMS per image at shape (1, 3, 480, 640)\n",
            "image 1/1: 375x500 1 person, 1 bottle, 1 laptop, 1 keyboard\n",
            "Speed: 2.2ms pre-process, 10.7ms inference, 1.2ms NMS per image at shape (1, 3, 480, 640)\n",
            "image 1/1: 427x640 3 zebras\n",
            "Speed: 1.2ms pre-process, 10.5ms inference, 1.1ms NMS per image at shape (1, 3, 448, 640)\n",
            "image 1/1: 428x640 4 zebras\n",
            "Speed: 1.3ms pre-process, 12.2ms inference, 1.1ms NMS per image at shape (1, 3, 448, 640)\n",
            "image 1/1: 640x443 2 zebras\n",
            "Speed: 1.5ms pre-process, 10.1ms inference, 1.2ms NMS per image at shape (1, 3, 640, 448)\n"
          ]
        },
        {
          "output_type": "stream",
          "name": "stdout",
          "text": [
            "[          0           0           0           0           0           0           1           0           0           0]\n",
            "[          0           0           0           0           0           0           1           0           0           0]\n",
            "[          1           0           0           0           0           0           0           0           0           0]\n",
            "[          1           0           0           0           0           0           0           0           0           0]\n",
            "[          0           0           0           0           0           0           1           0           0           0]\n",
            "[          0           0           0           0           0           0           1           0           0           0]\n",
            "[          0           0           0           0           0           0           1           0           0           0]\n"
          ]
        },
        {
          "output_type": "stream",
          "name": "stderr",
          "text": [
            "image 1/1: 425x640 3 zebras\n",
            "Speed: 1.5ms pre-process, 13.8ms inference, 1.2ms NMS per image at shape (1, 3, 448, 640)\n",
            "image 1/1: 480x640 1 zebra\n",
            "Speed: 1.4ms pre-process, 12.5ms inference, 1.4ms NMS per image at shape (1, 3, 480, 640)\n",
            "image 1/1: 479x640 3 cows, 5 zebras\n",
            "Speed: 1.3ms pre-process, 10.7ms inference, 1.2ms NMS per image at shape (1, 3, 480, 640)\n",
            "image 1/1: 640x427 3 zebras\n",
            "Speed: 1.3ms pre-process, 10.1ms inference, 1.1ms NMS per image at shape (1, 3, 640, 448)\n",
            "image 1/1: 471x640 3 sheeps, 2 zebras\n",
            "Speed: 1.3ms pre-process, 10.7ms inference, 1.1ms NMS per image at shape (1, 3, 480, 640)\n",
            "image 1/1: 375x500 2 zebras\n",
            "Speed: 1.9ms pre-process, 10.7ms inference, 1.1ms NMS per image at shape (1, 3, 480, 640)\n",
            "image 1/1: 480x640 1 person, 1 horse, 1 chair, 1 clock\n",
            "Speed: 1.3ms pre-process, 10.7ms inference, 1.1ms NMS per image at shape (1, 3, 480, 640)\n"
          ]
        },
        {
          "output_type": "stream",
          "name": "stdout",
          "text": [
            "[          0           0           0           0           0           0           1           0           0           0]\n",
            "[          0           0           0           0           0           0           1           0           0           0]\n",
            "[          0           0           0           0           0           0           1           0           0           0]\n",
            "[          0           0           0           0           0           0           1           0           0           0]\n",
            "[          0           0           0           0           0           0           1           0           0           0]\n",
            "[          0           0           0           0           0           0           1           0           0           0]\n",
            "[          0           0           0           0           0           0           1           0           0           0]\n"
          ]
        },
        {
          "output_type": "stream",
          "name": "stderr",
          "text": [
            "image 1/1: 360x640 4 horses\n",
            "Speed: 1.1ms pre-process, 12.8ms inference, 1.1ms NMS per image at shape (1, 3, 384, 640)\n",
            "image 1/1: 440x640 10 persons, 1 bench, 1 horse, 2 umbrellas\n",
            "Speed: 1.2ms pre-process, 10.4ms inference, 1.2ms NMS per image at shape (1, 3, 448, 640)\n",
            "image 1/1: 640x427 1 person, 1 horse\n",
            "Speed: 1.3ms pre-process, 10.1ms inference, 1.1ms NMS per image at shape (1, 3, 640, 448)\n",
            "image 1/1: 427x640 3 persons, 1 horse, 2 chairs, 1 potted plant\n",
            "Speed: 1.2ms pre-process, 10.4ms inference, 1.1ms NMS per image at shape (1, 3, 448, 640)\n",
            "image 1/1: 427x640 2 persons, 2 horses, 1 backpack\n",
            "Speed: 1.5ms pre-process, 10.9ms inference, 1.2ms NMS per image at shape (1, 3, 448, 640)\n",
            "image 1/1: 596x640 1 person, 1 skateboard\n",
            "Speed: 1.6ms pre-process, 13.3ms inference, 1.2ms NMS per image at shape (1, 3, 608, 640)\n",
            "image 1/1: 427x640 11 persons, 1 bench, 2 baseball gloves\n",
            "Speed: 1.3ms pre-process, 12.0ms inference, 1.3ms NMS per image at shape (1, 3, 448, 640)\n"
          ]
        },
        {
          "output_type": "stream",
          "name": "stdout",
          "text": [
            "[          0           0           0           0           0           0           1           0           0           0]\n",
            "[          0           0           0           0           0           0           1           0           0           0]\n",
            "[          1           0           0           0           0           0           0           0           0           0]\n",
            "[          1           0           0           0           0           0           0           0           0           0]\n",
            "[          1           0           0           0           0           0           0           0           0           0]\n",
            "[          0           0           0           0           0           0           0           0           0           0]\n",
            "[          1           0           0           0           0           0           0           0           0           0]\n"
          ]
        },
        {
          "output_type": "stream",
          "name": "stderr",
          "text": [
            "image 1/1: 428x640 1 sports ball, 5 cups, 2 bowls, 4 oranges, 1 potted plant\n",
            "Speed: 1.2ms pre-process, 12.1ms inference, 1.2ms NMS per image at shape (1, 3, 448, 640)\n",
            "image 1/1: 574x640 1 person, 1 skis\n",
            "Speed: 1.6ms pre-process, 13.2ms inference, 1.3ms NMS per image at shape (1, 3, 576, 640)\n",
            "image 1/1: 333x500 9 persons, 1 baseball bat, 1 baseball glove, 1 bottle\n",
            "Speed: 2.8ms pre-process, 11.4ms inference, 1.2ms NMS per image at shape (1, 3, 448, 640)\n",
            "image 1/1: 505x640 5 persons, 1 car, 1 truck, 3 bananas\n",
            "Speed: 1.4ms pre-process, 11.0ms inference, 1.1ms NMS per image at shape (1, 3, 512, 640)\n",
            "image 1/1: 368x640 1 person, 1 skis\n",
            "Speed: 1.2ms pre-process, 9.2ms inference, 1.2ms NMS per image at shape (1, 3, 384, 640)\n",
            "image 1/1: 375x500 (no detections)\n",
            "Speed: 2.0ms pre-process, 10.7ms inference, 1.0ms NMS per image at shape (1, 3, 480, 640)\n",
            "image 1/1: 399x500 1 apple, 6 oranges\n",
            "Speed: 2.1ms pre-process, 10.9ms inference, 1.1ms NMS per image at shape (1, 3, 512, 640)\n"
          ]
        },
        {
          "output_type": "stream",
          "name": "stdout",
          "text": [
            "[          0           0           0           0           0           1           0           0           0           0]\n",
            "[          1           0           0           0           0           0           0           0           0           0]\n",
            "[          1           0           0           0           0           0           0           0           0           0]\n",
            "[          1           0           0           0           0           0           0           0           0           0]\n",
            "[          1           0           0           0           0           0           0           0           0           0]\n",
            "[          0           0           0           0           0           0           0           0           0           0]\n",
            "[          0           0           0           0           0           1           0           0           0           0]\n"
          ]
        },
        {
          "output_type": "stream",
          "name": "stderr",
          "text": [
            "image 1/1: 378x500 1 person, 1 skis\n",
            "Speed: 2.1ms pre-process, 12.1ms inference, 1.1ms NMS per image at shape (1, 3, 512, 640)\n",
            "image 1/1: 424x640 1 person, 1 baseball glove\n",
            "Speed: 1.2ms pre-process, 10.4ms inference, 1.4ms NMS per image at shape (1, 3, 448, 640)\n",
            "image 1/1: 478x640 3 bottles\n",
            "Speed: 1.4ms pre-process, 10.7ms inference, 1.3ms NMS per image at shape (1, 3, 480, 640)\n",
            "image 1/1: 427x640 11 persons, 1 baseball bat, 1 baseball glove\n",
            "Speed: 1.2ms pre-process, 10.4ms inference, 1.2ms NMS per image at shape (1, 3, 448, 640)\n",
            "image 1/1: 333x500 12 persons, 1 sports ball, 1 baseball glove\n",
            "Speed: 1.8ms pre-process, 10.4ms inference, 1.4ms NMS per image at shape (1, 3, 448, 640)\n",
            "image 1/1: 426x640 3 persons\n",
            "Speed: 1.3ms pre-process, 10.4ms inference, 1.3ms NMS per image at shape (1, 3, 448, 640)\n",
            "image 1/1: 500x375 1 person, 1 umbrella, 3 cakes, 2 chairs\n",
            "Speed: 2.0ms pre-process, 10.3ms inference, 1.2ms NMS per image at shape (1, 3, 640, 480)\n",
            "image 1/1: 427x640 1 person, 1 skis\n",
            "Speed: 1.2ms pre-process, 10.5ms inference, 1.3ms NMS per image at shape (1, 3, 448, 640)\n"
          ]
        },
        {
          "output_type": "stream",
          "name": "stdout",
          "text": [
            "[          1           0           0           0           0           0           0           0           0           0]\n",
            "[          1           0           0           0           0           0           0           0           0           0]\n",
            "[          0           0           0           0           0           0           0           0           0           0]\n",
            "[          1           0           0           0           0           0           0           0           0           0]\n",
            "[          1           0           0           0           0           0           0           0           0           0]\n",
            "[          1           0           0           0           0           0           0           0           0           0]\n",
            "[          1           0           0           0           0           0           0           0           0           0]\n"
          ]
        },
        {
          "output_type": "stream",
          "name": "stderr",
          "text": [
            "image 1/1: 426x640 2 persons, 1 sports ball, 2 baseball bats, 1 baseball glove\n",
            "Speed: 1.3ms pre-process, 10.4ms inference, 1.3ms NMS per image at shape (1, 3, 448, 640)\n",
            "image 1/1: 640x427 1 person, 1 skateboard\n",
            "Speed: 1.3ms pre-process, 10.1ms inference, 1.3ms NMS per image at shape (1, 3, 640, 448)\n",
            "image 1/1: 480x640 1 broccoli\n",
            "Speed: 1.4ms pre-process, 10.7ms inference, 1.3ms NMS per image at shape (1, 3, 480, 640)\n",
            "image 1/1: 427x640 1 person, 1 skis\n",
            "Speed: 1.2ms pre-process, 10.5ms inference, 1.2ms NMS per image at shape (1, 3, 448, 640)\n",
            "image 1/1: 426x640 6 persons, 1 skateboard\n",
            "Speed: 1.2ms pre-process, 10.4ms inference, 1.3ms NMS per image at shape (1, 3, 448, 640)\n",
            "image 1/1: 428x640 1 bottle, 1 chair\n",
            "Speed: 1.3ms pre-process, 10.4ms inference, 1.3ms NMS per image at shape (1, 3, 448, 640)\n",
            "image 1/1: 426x640 1 spoon, 1 bowl, 10 broccolis\n",
            "Speed: 1.2ms pre-process, 10.4ms inference, 1.1ms NMS per image at shape (1, 3, 448, 640)\n"
          ]
        },
        {
          "output_type": "stream",
          "name": "stdout",
          "text": [
            "[          1           0           0           0           0           0           0           0           0           0]\n",
            "[          1           0           0           0           0           0           0           0           0           0]\n",
            "[          1           0           0           0           0           0           0           0           0           0]\n",
            "[          0           0           0           0           0           0           0           0           0           0]\n",
            "[          1           0           0           0           0           0           0           0           0           0]\n",
            "[          1           0           0           0           0           0           0           0           0           0]\n",
            "[          0           0           0           0           0           0           0           0           0           0]\n"
          ]
        },
        {
          "output_type": "stream",
          "name": "stderr",
          "text": [
            "image 1/1: 428x640 1 fork, 4 broccolis, 1 cake\n",
            "Speed: 1.3ms pre-process, 10.4ms inference, 1.2ms NMS per image at shape (1, 3, 448, 640)\n",
            "image 1/1: 640x480 1 person, 1 backpack, 1 skis\n",
            "Speed: 1.3ms pre-process, 10.3ms inference, 1.2ms NMS per image at shape (1, 3, 640, 480)\n",
            "image 1/1: 640x359 1 person\n",
            "Speed: 1.1ms pre-process, 9.9ms inference, 1.3ms NMS per image at shape (1, 3, 640, 384)\n",
            "image 1/1: 427x640 1 broccoli\n",
            "Speed: 1.3ms pre-process, 10.5ms inference, 1.3ms NMS per image at shape (1, 3, 448, 640)\n",
            "image 1/1: 640x427 8 persons\n",
            "Speed: 1.3ms pre-process, 10.1ms inference, 1.2ms NMS per image at shape (1, 3, 640, 448)\n",
            "image 1/1: 427x640 4 bowls\n",
            "Speed: 1.3ms pre-process, 10.5ms inference, 1.2ms NMS per image at shape (1, 3, 448, 640)\n",
            "image 1/1: 640x428 1 person, 1 umbrella, 1 skateboard\n",
            "Speed: 1.2ms pre-process, 10.1ms inference, 1.2ms NMS per image at shape (1, 3, 640, 448)\n"
          ]
        },
        {
          "output_type": "stream",
          "name": "stdout",
          "text": [
            "[          0           0           0           0           1           0           0           0           0           0]\n",
            "[          0           0           0           0           0           0           0           0           0           0]\n",
            "[          1           0           0           0           0           0           0           0           0           0]\n",
            "[          1           0           0           0           0           0           0           0           0           0]\n",
            "[          0           0           0           0           0           0           0           0           0           0]\n",
            "[          1           0           0           0           0           0           0           0           0           0]\n",
            "[          0           0           0           0           0           0           0           0           0           0]\n",
            "[          1           0           0           0           0           0           0           0           0           0]\n"
          ]
        },
        {
          "output_type": "stream",
          "name": "stderr",
          "text": [
            "image 1/1: 427x640 5 persons, 1 skis\n",
            "Speed: 1.2ms pre-process, 10.5ms inference, 1.2ms NMS per image at shape (1, 3, 448, 640)\n",
            "image 1/1: 480x640 4 persons, 3 skiss\n",
            "Speed: 1.4ms pre-process, 10.8ms inference, 1.3ms NMS per image at shape (1, 3, 480, 640)\n",
            "image 1/1: 427x640 1 person, 1 skateboard\n",
            "Speed: 1.3ms pre-process, 10.5ms inference, 1.1ms NMS per image at shape (1, 3, 448, 640)\n",
            "image 1/1: 427x640 1 pizza, 1 dining table\n",
            "Speed: 1.3ms pre-process, 11.0ms inference, 1.6ms NMS per image at shape (1, 3, 448, 640)\n",
            "image 1/1: 418x640 2 persons, 2 backpacks, 1 skis\n",
            "Speed: 1.4ms pre-process, 11.1ms inference, 1.2ms NMS per image at shape (1, 3, 448, 640)\n",
            "image 1/1: 480x640 1 person, 1 bed\n",
            "Speed: 1.7ms pre-process, 11.2ms inference, 1.1ms NMS per image at shape (1, 3, 480, 640)\n",
            "image 1/1: 425x640 2 persons, 1 car, 3 benchs, 1 skateboard\n",
            "Speed: 1.3ms pre-process, 10.5ms inference, 1.1ms NMS per image at shape (1, 3, 448, 640)\n"
          ]
        },
        {
          "output_type": "stream",
          "name": "stdout",
          "text": [
            "[          1           0           0           0           0           0           0           0           0           0]\n",
            "[          1           0           0           0           0           0           0           0           0           0]\n",
            "[          1           0           0           0           0           0           0           0           0           0]\n",
            "[          0           0           0           0           0           0           0           1           0           0]\n",
            "[          1           0           0           0           0           0           0           0           0           0]\n",
            "[          0           0           0           0           0           0           0           0           0           0]\n",
            "[          1           0           0           0           0           0           0           0           0           0]\n"
          ]
        },
        {
          "output_type": "stream",
          "name": "stderr",
          "text": [
            "image 1/1: 605x640 1 person, 1 skateboard\n",
            "Speed: 1.5ms pre-process, 16.1ms inference, 1.2ms NMS per image at shape (1, 3, 608, 640)\n",
            "image 1/1: 640x480 1 person, 2 chairs\n",
            "Speed: 1.4ms pre-process, 10.3ms inference, 1.1ms NMS per image at shape (1, 3, 640, 480)\n",
            "image 1/1: 275x500 1 person, 1 bottle\n",
            "Speed: 1.6ms pre-process, 13.1ms inference, 1.1ms NMS per image at shape (1, 3, 352, 640)\n",
            "image 1/1: 333x500 1 person\n",
            "Speed: 2.0ms pre-process, 10.5ms inference, 1.1ms NMS per image at shape (1, 3, 448, 640)\n",
            "image 1/1: 500x361 1 person, 1 snowboard\n",
            "Speed: 3.0ms pre-process, 11.1ms inference, 1.1ms NMS per image at shape (1, 3, 640, 480)\n",
            "image 1/1: 612x612 1 cup, 1 bowl, 1 cake\n",
            "Speed: 2.7ms pre-process, 13.5ms inference, 1.1ms NMS per image at shape (1, 3, 640, 640)\n",
            "image 1/1: 424x640 1 knife, 1 cake, 1 dining table\n",
            "Speed: 1.2ms pre-process, 10.5ms inference, 1.1ms NMS per image at shape (1, 3, 448, 640)\n"
          ]
        },
        {
          "output_type": "stream",
          "name": "stdout",
          "text": [
            "[          1           0           0           0           0           0           0           0           0           0]\n",
            "[          1           0           0           0           0           0           0           0           0           0]\n",
            "[          0           0           0           0           0           0           0           0           0           0]\n",
            "[          1           0           0           0           0           0           0           0           0           0]\n",
            "[          1           0           0           0           0           0           0           0           0           0]\n",
            "[          0           0           0           0           0           0           0           0           0           0]\n",
            "[          0           0           0           0           0           0           0           0           0           0]\n"
          ]
        },
        {
          "output_type": "stream",
          "name": "stderr",
          "text": [
            "image 1/1: 428x640 1 person, 1 snowboard\n",
            "Speed: 1.2ms pre-process, 10.4ms inference, 3.0ms NMS per image at shape (1, 3, 448, 640)\n",
            "image 1/1: 640x480 4 persons, 1 handbag, 2 cups, 1 spoon, 3 donuts, 2 chairs, 1 dining table\n",
            "Speed: 1.6ms pre-process, 10.3ms inference, 1.1ms NMS per image at shape (1, 3, 640, 480)\n",
            "image 1/1: 640x480 3 persons, 1 chair\n",
            "Speed: 1.3ms pre-process, 10.3ms inference, 1.1ms NMS per image at shape (1, 3, 640, 480)\n",
            "image 1/1: 480x640 (no detections)\n",
            "Speed: 1.8ms pre-process, 10.9ms inference, 0.7ms NMS per image at shape (1, 3, 480, 640)\n",
            "image 1/1: 480x640 4 persons, 1 bowl, 1 tv, 1 clock\n",
            "Speed: 1.3ms pre-process, 10.7ms inference, 1.1ms NMS per image at shape (1, 3, 480, 640)\n",
            "image 1/1: 425x640 6 persons, 2 snowboards, 1 surfboard, 1 bottle, 1 cell phone\n",
            "Speed: 1.4ms pre-process, 13.0ms inference, 1.5ms NMS per image at shape (1, 3, 448, 640)\n",
            "image 1/1: 427x640 1 person, 1 surfboard\n",
            "Speed: 1.3ms pre-process, 10.4ms inference, 1.2ms NMS per image at shape (1, 3, 448, 640)\n"
          ]
        },
        {
          "output_type": "stream",
          "name": "stdout",
          "text": [
            "[          1           0           0           0           0           0           0           0           0           0]\n",
            "[          1           0           0           0           0           0           0           0           0           0]\n",
            "[          1           0           0           0           0           0           0           0           0           0]\n",
            "[          0           0           0           0           0           0           0           0           0           0]\n",
            "[          1           0           0           0           0           0           0           0           0           0]\n",
            "[          1           0           0           0           0           0           0           0           0           0]\n",
            "[          1           0           0           0           0           0           0           0           0           0]\n"
          ]
        },
        {
          "output_type": "stream",
          "name": "stderr",
          "text": [
            "image 1/1: 400x500 (no detections)\n",
            "Speed: 2.2ms pre-process, 11.0ms inference, 4.5ms NMS per image at shape (1, 3, 512, 640)\n",
            "image 1/1: 480x640 1 person, 1 surfboard\n",
            "Speed: 1.4ms pre-process, 10.7ms inference, 1.3ms NMS per image at shape (1, 3, 480, 640)\n",
            "image 1/1: 361x500 1 cat, 1 bed, 5 books\n",
            "Speed: 2.2ms pre-process, 10.7ms inference, 1.2ms NMS per image at shape (1, 3, 480, 640)\n",
            "image 1/1: 427x640 1 chair, 2 beds\n",
            "Speed: 1.2ms pre-process, 10.5ms inference, 1.6ms NMS per image at shape (1, 3, 448, 640)\n",
            "image 1/1: 427x640 1 backpack, 1 cup, 2 chairs, 1 bed\n",
            "Speed: 1.2ms pre-process, 10.4ms inference, 1.2ms NMS per image at shape (1, 3, 448, 640)\n",
            "image 1/1: 482x640 1 person, 1 surfboard\n",
            "Speed: 1.6ms pre-process, 10.9ms inference, 1.1ms NMS per image at shape (1, 3, 512, 640)\n",
            "image 1/1: 360x640 2 persons, 1 sports ball\n",
            "Speed: 1.2ms pre-process, 9.8ms inference, 1.1ms NMS per image at shape (1, 3, 384, 640)\n"
          ]
        },
        {
          "output_type": "stream",
          "name": "stdout",
          "text": [
            "[          0           0           0           0           0           0           0           0           0           0]\n",
            "[          1           0           0           0           0           0           0           0           0           0]\n",
            "[          0           0           0           0           0           0           0           0           0           0]\n",
            "[          0           0           0           0           0           0           0           0           0           1]\n",
            "[          0           0           0           0           0           0           0           0           0           1]\n",
            "[          1           0           0           0           0           0           0           0           0           0]\n",
            "[          1           0           0           0           0           0           0           0           0           0]\n"
          ]
        },
        {
          "output_type": "stream",
          "name": "stderr",
          "text": [
            "image 1/1: 457x640 15 persons, 1 sports ball, 1 tennis racket\n",
            "Speed: 1.4ms pre-process, 10.8ms inference, 5.1ms NMS per image at shape (1, 3, 480, 640)\n",
            "image 1/1: 640x480 2 persons, 1 suitcase, 1 chair, 1 bed, 1 dining table\n",
            "Speed: 1.3ms pre-process, 10.3ms inference, 1.1ms NMS per image at shape (1, 3, 640, 480)\n",
            "image 1/1: 480x640 2 persons, 1 sports ball\n",
            "Speed: 1.3ms pre-process, 10.7ms inference, 1.1ms NMS per image at shape (1, 3, 480, 640)\n",
            "image 1/1: 640x424 1 bed\n",
            "Speed: 1.2ms pre-process, 11.7ms inference, 1.1ms NMS per image at shape (1, 3, 640, 448)\n",
            "image 1/1: 427x640 5 persons, 3 surfboards\n",
            "Speed: 1.3ms pre-process, 10.5ms inference, 1.2ms NMS per image at shape (1, 3, 448, 640)\n",
            "image 1/1: 480x640 1 person, 1 bed, 2 books\n",
            "Speed: 1.3ms pre-process, 10.7ms inference, 1.1ms NMS per image at shape (1, 3, 480, 640)\n",
            "image 1/1: 640x425 1 couch, 1 bed\n",
            "Speed: 1.3ms pre-process, 10.1ms inference, 1.1ms NMS per image at shape (1, 3, 640, 448)\n",
            "image 1/1: 419x640 1 chair, 1 bed, 1 dining table\n",
            "Speed: 1.2ms pre-process, 10.5ms inference, 1.1ms NMS per image at shape (1, 3, 448, 640)\n"
          ]
        },
        {
          "output_type": "stream",
          "name": "stdout",
          "text": [
            "[          1           0           0           0           0           0           0           0           0           0]\n",
            "[          1           0           0           0           0           0           0           0           0           0]\n",
            "[          1           0           0           0           0           0           0           0           0           0]\n",
            "[          0           0           0           0           0           0           0           0           0           1]\n",
            "[          1           0           0           0           0           0           0           0           0           0]\n",
            "[          1           0           0           0           0           0           0           0           0           0]\n",
            "[          0           0           0           0           0           0           0           0           0           0]\n"
          ]
        },
        {
          "output_type": "stream",
          "name": "stderr",
          "text": [
            "image 1/1: 438x640 1 person, 1 surfboard\n",
            "Speed: 1.3ms pre-process, 10.4ms inference, 1.2ms NMS per image at shape (1, 3, 448, 640)\n",
            "image 1/1: 427x640 1 cake\n",
            "Speed: 1.5ms pre-process, 10.8ms inference, 1.2ms NMS per image at shape (1, 3, 448, 640)\n",
            "image 1/1: 427x640 1 bowl\n",
            "Speed: 1.2ms pre-process, 11.7ms inference, 1.2ms NMS per image at shape (1, 3, 448, 640)\n",
            "image 1/1: 640x640 1 fork, 3 cakes\n",
            "Speed: 1.7ms pre-process, 13.5ms inference, 1.3ms NMS per image at shape (1, 3, 640, 640)\n",
            "image 1/1: 480x640 2 chairs, 1 couch, 4 potted plants, 3 tvs, 1 remote, 1 cell phone\n",
            "Speed: 1.5ms pre-process, 13.6ms inference, 1.3ms NMS per image at shape (1, 3, 480, 640)\n",
            "image 1/1: 612x612 1 person, 10 cups, 1 cake, 3 chairs, 2 dining tables\n",
            "Speed: 4.3ms pre-process, 13.5ms inference, 1.3ms NMS per image at shape (1, 3, 640, 640)\n",
            "image 1/1: 640x480 1 person, 4 cups, 2 forks, 2 pizzas, 1 potted plant, 1 dining table, 1 tv, 1 vase\n",
            "Speed: 1.3ms pre-process, 12.0ms inference, 1.3ms NMS per image at shape (1, 3, 640, 480)\n"
          ]
        },
        {
          "output_type": "stream",
          "name": "stdout",
          "text": [
            "[          0           0           0           0           0           0           0           0           0           1]\n",
            "[          1           0           0           0           0           0           0           0           0           0]\n",
            "[          0           0           0           0           0           0           0           0           0           0]\n",
            "[          0           0           0           0           0           0           0           0           0           0]\n",
            "[          0           0           0           0           0           0           0           0           0           0]\n",
            "[          0           0           0           0           0           0           0           0           0           1]\n",
            "[          0           0           0           0           0           0           0           0           0           0]\n",
            "[          0           0           0           0           0           0           0           1           0           0]\n"
          ]
        },
        {
          "output_type": "stream",
          "name": "stderr",
          "text": [
            "image 1/1: 427x640 3 persons, 1 tennis racket\n",
            "Speed: 1.3ms pre-process, 10.5ms inference, 1.2ms NMS per image at shape (1, 3, 448, 640)\n",
            "image 1/1: 410x640 1 fork, 1 pizza\n",
            "Speed: 1.7ms pre-process, 12.2ms inference, 1.3ms NMS per image at shape (1, 3, 416, 640)\n",
            "image 1/1: 333x500 9 persons, 2 cars, 1 truck\n",
            "Speed: 2.3ms pre-process, 11.5ms inference, 1.3ms NMS per image at shape (1, 3, 448, 640)\n",
            "image 1/1: 427x640 1 person, 2 sports balls, 1 tennis racket\n",
            "Speed: 1.4ms pre-process, 10.4ms inference, 1.3ms NMS per image at shape (1, 3, 448, 640)\n",
            "image 1/1: 480x640 15 persons, 2 tennis rackets, 16 chairs\n",
            "Speed: 1.4ms pre-process, 10.7ms inference, 1.3ms NMS per image at shape (1, 3, 480, 640)\n",
            "image 1/1: 464x640 1 person, 2 sports balls, 1 tennis racket\n",
            "Speed: 1.9ms pre-process, 10.7ms inference, 1.2ms NMS per image at shape (1, 3, 480, 640)\n",
            "image 1/1: 480x640 1 person, 1 laptop\n",
            "Speed: 1.5ms pre-process, 10.7ms inference, 1.3ms NMS per image at shape (1, 3, 480, 640)\n"
          ]
        },
        {
          "output_type": "stream",
          "name": "stdout",
          "text": [
            "[          1           0           0           0           0           0           0           0           0           0]\n",
            "[          0           0           0           0           0           0           0           0           0           0]\n",
            "[          1           0           0           0           0           0           0           0           0           0]\n",
            "[          1           0           0           0           0           0           0           0           0           0]\n",
            "[          1           0           0           0           0           0           0           0           0           0]\n",
            "[          1           0           0           0           0           0           0           0           0           0]\n",
            "[          0           0           0           0           0           0           0           0           0           0]\n"
          ]
        },
        {
          "output_type": "stream",
          "name": "stderr",
          "text": [
            "image 1/1: 640x427 1 person, 1 tennis racket\n",
            "Speed: 1.7ms pre-process, 10.1ms inference, 1.3ms NMS per image at shape (1, 3, 640, 448)\n",
            "image 1/1: 427x640 1 person, 1 sports ball, 1 tennis racket\n",
            "Speed: 1.4ms pre-process, 10.5ms inference, 1.1ms NMS per image at shape (1, 3, 448, 640)\n",
            "image 1/1: 480x640 12 persons, 5 tennis rackets\n",
            "Speed: 1.3ms pre-process, 10.7ms inference, 1.2ms NMS per image at shape (1, 3, 480, 640)\n",
            "image 1/1: 640x426 1 person, 1 sports ball, 1 tennis racket\n",
            "Speed: 1.3ms pre-process, 10.1ms inference, 1.1ms NMS per image at shape (1, 3, 640, 448)\n",
            "image 1/1: 480x640 (no detections)\n",
            "Speed: 1.4ms pre-process, 13.7ms inference, 0.9ms NMS per image at shape (1, 3, 480, 640)\n",
            "image 1/1: 640x427 1 person, 1 tennis racket\n",
            "Speed: 1.3ms pre-process, 10.1ms inference, 1.2ms NMS per image at shape (1, 3, 640, 448)\n",
            "image 1/1: 480x640 2 tvs, 1 mouse, 2 keyboards, 1 cell phone\n",
            "Speed: 1.4ms pre-process, 10.7ms inference, 1.2ms NMS per image at shape (1, 3, 480, 640)\n"
          ]
        },
        {
          "output_type": "stream",
          "name": "stdout",
          "text": [
            "[          1           0           0           0           0           0           0           0           0           0]\n",
            "[          1           0           0           0           0           0           0           0           0           0]\n",
            "[          1           0           0           0           0           0           0           0           0           0]\n",
            "[          1           0           0           0           0           0           0           0           0           0]\n",
            "[          0           0           0           0           0           0           0           0           0           0]\n",
            "[          1           0           0           0           0           0           0           0           0           0]\n",
            "[          0           0           0           0           0           0           0           0           0           0]\n"
          ]
        },
        {
          "output_type": "stream",
          "name": "stderr",
          "text": [
            "image 1/1: 480x640 2 backpacks, 1 bottle, 1 cup, 1 chair, 1 dining table, 1 laptop, 1 keyboard, 6 books\n",
            "Speed: 1.7ms pre-process, 11.0ms inference, 1.1ms NMS per image at shape (1, 3, 480, 640)\n",
            "image 1/1: 427x640 3 chairs, 1 couch, 3 potted plants, 1 dining table, 1 tv, 1 book, 1 clock, 3 vases\n",
            "Speed: 1.5ms pre-process, 11.7ms inference, 1.3ms NMS per image at shape (1, 3, 448, 640)\n",
            "image 1/1: 428x640 3 persons, 2 remotes\n",
            "Speed: 1.4ms pre-process, 10.4ms inference, 1.2ms NMS per image at shape (1, 3, 448, 640)\n",
            "image 1/1: 404x640 1 person, 10 cups, 2 bowls, 1 tv, 1 cell phone, 3 vases\n",
            "Speed: 1.2ms pre-process, 10.2ms inference, 1.2ms NMS per image at shape (1, 3, 416, 640)\n",
            "image 1/1: 427x640 12 persons, 1 handbag, 2 tvs\n",
            "Speed: 1.3ms pre-process, 10.5ms inference, 1.2ms NMS per image at shape (1, 3, 448, 640)\n",
            "image 1/1: 480x640 3 persons, 2 cars, 4 bottles, 3 cups, 1 couch, 1 dining table, 1 laptop, 1 cell phone\n",
            "Speed: 1.4ms pre-process, 10.7ms inference, 1.2ms NMS per image at shape (1, 3, 480, 640)\n",
            "image 1/1: 375x500 2 persons\n",
            "Speed: 2.1ms pre-process, 10.7ms inference, 1.1ms NMS per image at shape (1, 3, 480, 640)\n"
          ]
        },
        {
          "output_type": "stream",
          "name": "stdout",
          "text": [
            "[          0           1           0           0           0           0           0           0           0           0]\n",
            "[          0           0           0           0           0           0           0           0           0           1]\n",
            "[          1           0           0           0           0           0           0           0           0           0]\n",
            "[          1           0           0           0           0           0           0           0           0           0]\n",
            "[          1           0           0           0           0           0           0           0           0           0]\n",
            "[          1           0           0           0           0           0           0           0           0           0]\n",
            "[          1           0           0           0           0           0           0           0           0           0]\n"
          ]
        },
        {
          "output_type": "stream",
          "name": "stderr",
          "text": [
            "image 1/1: 375x500 1 chair, 1 couch, 1 tv\n",
            "Speed: 2.0ms pre-process, 12.4ms inference, 1.8ms NMS per image at shape (1, 3, 480, 640)\n",
            "image 1/1: 480x640 1 tv, 1 laptop, 2 mouses, 1 keyboard, 1 cell phone\n",
            "Speed: 1.3ms pre-process, 10.6ms inference, 1.1ms NMS per image at shape (1, 3, 480, 640)\n",
            "image 1/1: 480x640 2 persons, 1 tie, 1 tv, 1 mouse, 2 keyboards\n",
            "Speed: 1.2ms pre-process, 10.7ms inference, 1.1ms NMS per image at shape (1, 3, 480, 640)\n",
            "image 1/1: 427x640 3 persons, 1 sports ball, 1 tennis racket\n",
            "Speed: 1.2ms pre-process, 10.5ms inference, 1.1ms NMS per image at shape (1, 3, 448, 640)\n",
            "image 1/1: 480x640 1 person, 2 cats, 2 couchs, 1 tv\n",
            "Speed: 1.3ms pre-process, 10.7ms inference, 1.2ms NMS per image at shape (1, 3, 480, 640)\n",
            "image 1/1: 640x487 9 persons, 1 kite\n",
            "Speed: 1.6ms pre-process, 17.1ms inference, 1.2ms NMS per image at shape (1, 3, 640, 512)\n",
            "image 1/1: 240x320 1 tv, 1 laptop, 1 mouse, 2 keyboards, 1 cell phone\n",
            "Speed: 2.4ms pre-process, 10.8ms inference, 1.2ms NMS per image at shape (1, 3, 480, 640)\n"
          ]
        },
        {
          "output_type": "stream",
          "name": "stdout",
          "text": [
            "[          0           0           0           0           0           0           0           0           0           1]\n",
            "[          0           1           0           0           0           0           0           0           0           0]\n",
            "[          1           0           0           0           0           0           0           0           0           0]\n",
            "[          1           0           0           0           0           0           0           0           0           0]\n",
            "[          1           0           0           0           0           0           0           0           0           0]\n",
            "[          1           0           0           0           0           0           0           0           0           0]\n",
            "[          0           1           0           0           0           0           0           0           0           0]\n"
          ]
        },
        {
          "output_type": "stream",
          "name": "stderr",
          "text": [
            "image 1/1: 480x640 4 persons, 1 kite\n",
            "Speed: 1.3ms pre-process, 10.7ms inference, 2.4ms NMS per image at shape (1, 3, 480, 640)\n",
            "image 1/1: 457x640 1 person, 1 sports ball, 1 baseball bat\n",
            "Speed: 1.9ms pre-process, 13.8ms inference, 1.6ms NMS per image at shape (1, 3, 480, 640)\n",
            "image 1/1: 640x480 16 persons, 1 baseball bat, 1 baseball glove\n",
            "Speed: 1.5ms pre-process, 10.4ms inference, 1.3ms NMS per image at shape (1, 3, 640, 480)\n",
            "image 1/1: 480x640 5 persons\n",
            "Speed: 1.3ms pre-process, 10.7ms inference, 1.3ms NMS per image at shape (1, 3, 480, 640)\n",
            "image 1/1: 427x640 7 persons, 1 car, 1 sports ball, 2 baseball bats, 1 baseball glove, 1 chair\n",
            "Speed: 1.4ms pre-process, 10.5ms inference, 1.3ms NMS per image at shape (1, 3, 448, 640)\n",
            "image 1/1: 445x640 1 person, 1 sports ball, 1 tennis racket\n",
            "Speed: 1.6ms pre-process, 10.4ms inference, 1.1ms NMS per image at shape (1, 3, 448, 640)\n",
            "image 1/1: 480x640 2 persons, 1 book, 1 toothbrush\n",
            "Speed: 1.4ms pre-process, 10.7ms inference, 1.2ms NMS per image at shape (1, 3, 480, 640)\n"
          ]
        },
        {
          "output_type": "stream",
          "name": "stdout",
          "text": [
            "[          1           0           0           0           0           0           0           0           0           0]\n",
            "[          1           0           0           0           0           0           0           0           0           0]\n",
            "[          1           0           0           0           0           0           0           0           0           0]\n",
            "[          1           0           0           0           0           0           0           0           0           0]\n",
            "[          1           0           0           0           0           0           0           0           0           0]\n",
            "[          1           0           0           0           0           0           0           0           0           0]\n"
          ]
        },
        {
          "output_type": "stream",
          "name": "stderr",
          "text": [
            "image 1/1: 428x640 12 persons, 1 sports ball, 2 tennis rackets, 1 chair\n",
            "Speed: 1.4ms pre-process, 10.5ms inference, 1.2ms NMS per image at shape (1, 3, 448, 640)\n",
            "image 1/1: 480x640 13 persons, 2 backpacks, 2 suitcases, 1 tennis racket, 4 chairs\n",
            "Speed: 1.4ms pre-process, 12.1ms inference, 1.2ms NMS per image at shape (1, 3, 480, 640)\n",
            "image 1/1: 480x640 1 bottle, 1 chair, 2 laptops, 1 mouse, 2 keyboards\n",
            "Speed: 1.4ms pre-process, 10.7ms inference, 1.2ms NMS per image at shape (1, 3, 480, 640)\n",
            "image 1/1: 393x640 1 person\n",
            "Speed: 1.1ms pre-process, 10.3ms inference, 1.1ms NMS per image at shape (1, 3, 416, 640)\n",
            "image 1/1: 375x500 1 person, 1 laptop, 1 cell phone\n",
            "Speed: 2.3ms pre-process, 10.8ms inference, 1.2ms NMS per image at shape (1, 3, 480, 640)\n",
            "image 1/1: 640x480 1 cup, 1 bowl, 1 chair, 1 laptop\n",
            "Speed: 1.3ms pre-process, 10.3ms inference, 1.1ms NMS per image at shape (1, 3, 640, 480)\n",
            "image 1/1: 427x640 1 backpack, 1 handbag, 3 tvs, 4 laptops, 1 keyboard\n",
            "Speed: 1.3ms pre-process, 10.5ms inference, 1.3ms NMS per image at shape (1, 3, 448, 640)\n"
          ]
        },
        {
          "output_type": "stream",
          "name": "stdout",
          "text": [
            "[          1           0           0           0           0           0           0           0           0           0]\n",
            "[          1           0           0           0           0           0           0           0           0           0]\n",
            "[          1           0           0           0           0           0           0           0           0           0]\n",
            "[          0           1           0           0           0           0           0           0           0           0]\n",
            "[          1           0           0           0           0           0           0           0           0           0]\n",
            "[          0           1           0           0           0           0           0           0           0           0]\n",
            "[          0           1           0           0           0           0           0           0           0           0]\n",
            "[          0           1           0           0           0           0           0           0           0           0]\n"
          ]
        },
        {
          "output_type": "stream",
          "name": "stderr",
          "text": [
            "image 1/1: 428x640 19 persons, 1 handbag, 1 teddy bear\n",
            "Speed: 1.6ms pre-process, 11.0ms inference, 1.9ms NMS per image at shape (1, 3, 448, 640)\n",
            "image 1/1: 500x333 (no detections)\n",
            "Speed: 2.0ms pre-process, 10.1ms inference, 0.8ms NMS per image at shape (1, 3, 640, 448)\n",
            "image 1/1: 480x640 2 persons, 1 backpack\n",
            "Speed: 1.4ms pre-process, 10.8ms inference, 1.2ms NMS per image at shape (1, 3, 480, 640)\n",
            "image 1/1: 640x427 1 person\n",
            "Speed: 1.2ms pre-process, 10.1ms inference, 1.1ms NMS per image at shape (1, 3, 640, 448)\n",
            "image 1/1: 640x424 1 oven, 1 refrigerator\n",
            "Speed: 1.2ms pre-process, 10.0ms inference, 1.1ms NMS per image at shape (1, 3, 640, 448)\n",
            "image 1/1: 426x640 1 bird\n",
            "Speed: 1.2ms pre-process, 10.5ms inference, 1.1ms NMS per image at shape (1, 3, 448, 640)\n",
            "image 1/1: 500x375 2 chairs, 1 tv, 1 refrigerator\n",
            "Speed: 2.1ms pre-process, 10.3ms inference, 1.1ms NMS per image at shape (1, 3, 640, 480)\n"
          ]
        },
        {
          "output_type": "stream",
          "name": "stdout",
          "text": [
            "[          1           0           0           0           0           0           0           0           0           0]\n",
            "[          0           0           0           0           0           0           0           0           0           0]\n",
            "[          1           0           0           0           0           0           0           0           0           0]\n",
            "[          1           0           0           0           0           0           0           0           0           0]\n",
            "[          0           0           0           0           0           0           0           0           0           0]\n",
            "[          0           0           0           0           0           0           0           0           0           0]\n",
            "[          0           0           0           0           0           0           0           0           0           0]\n"
          ]
        },
        {
          "output_type": "stream",
          "name": "stderr",
          "text": [
            "image 1/1: 427x640 1 sports ball, 1 bottle, 1 bed, 1 tv, 1 cell phone, 1 refrigerator, 4 books, 1 vase\n",
            "Speed: 1.3ms pre-process, 10.4ms inference, 1.1ms NMS per image at shape (1, 3, 448, 640)\n",
            "image 1/1: 480x640 5 persons, 1 bench, 2 cups\n",
            "Speed: 1.4ms pre-process, 10.8ms inference, 1.1ms NMS per image at shape (1, 3, 480, 640)\n",
            "image 1/1: 640x360 1 person, 2 chairs, 1 couch\n",
            "Speed: 1.1ms pre-process, 9.9ms inference, 1.1ms NMS per image at shape (1, 3, 640, 384)\n",
            "image 1/1: 427x640 1 person, 1 cell phone\n",
            "Speed: 1.2ms pre-process, 10.5ms inference, 1.1ms NMS per image at shape (1, 3, 448, 640)\n",
            "image 1/1: 480x640 5 persons, 2 potted plants, 1 clock\n",
            "Speed: 1.3ms pre-process, 10.8ms inference, 1.2ms NMS per image at shape (1, 3, 480, 640)\n",
            "image 1/1: 612x612 1 bowl\n",
            "Speed: 2.8ms pre-process, 13.5ms inference, 1.2ms NMS per image at shape (1, 3, 640, 640)\n",
            "image 1/1: 612x612 1 bowl\n",
            "Speed: 2.9ms pre-process, 13.4ms inference, 1.2ms NMS per image at shape (1, 3, 640, 640)\n"
          ]
        },
        {
          "output_type": "stream",
          "name": "stdout",
          "text": [
            "[          0           0           0           0           0           0           0           0           0           1]\n",
            "[          1           0           0           0           0           0           0           0           0           0]\n",
            "[          1           0           0           0           0           0           0           0           0           0]\n",
            "[          1           0           0           0           0           0           0           0           0           0]\n",
            "[          1           0           0           0           0           0           0           0           0           0]\n",
            "[          0           0           0           0           0           0           0           0           0           0]\n",
            "[          0           0           0           0           0           0           0           0           0           0]\n"
          ]
        },
        {
          "output_type": "stream",
          "name": "stderr",
          "text": [
            "image 1/1: 480x640 2 persons, 7 cups, 2 spoons, 1 dining table, 1 cell phone\n",
            "Speed: 1.3ms pre-process, 11.6ms inference, 3.9ms NMS per image at shape (1, 3, 480, 640)\n",
            "image 1/1: 436x640 2 bottles\n",
            "Speed: 1.4ms pre-process, 10.3ms inference, 1.1ms NMS per image at shape (1, 3, 448, 640)\n",
            "image 1/1: 612x612 1 cup, 1 knife, 1 bowl\n",
            "Speed: 4.6ms pre-process, 13.2ms inference, 1.4ms NMS per image at shape (1, 3, 640, 640)\n",
            "image 1/1: 480x640 1 cup, 1 spoon, 2 bowls, 1 dining table\n",
            "Speed: 1.4ms pre-process, 10.5ms inference, 1.2ms NMS per image at shape (1, 3, 480, 640)\n",
            "image 1/1: 426x640 15 persons, 3 wine glasss, 14 cups, 1 fork, 1 bowl, 1 chair, 1 dining table, 1 vase\n",
            "Speed: 1.3ms pre-process, 13.0ms inference, 1.4ms NMS per image at shape (1, 3, 448, 640)\n",
            "image 1/1: 640x457 2 persons, 1 wine glass, 1 knife, 1 spoon, 1 bowl, 2 chairs\n",
            "Speed: 1.5ms pre-process, 10.1ms inference, 1.2ms NMS per image at shape (1, 3, 640, 480)\n",
            "image 1/1: 480x640 5 persons, 3 wine glasss, 1 cup, 1 chair, 1 dining table\n",
            "Speed: 1.3ms pre-process, 10.5ms inference, 1.3ms NMS per image at shape (1, 3, 480, 640)\n"
          ]
        },
        {
          "output_type": "stream",
          "name": "stdout",
          "text": [
            "[          1           0           0           0           0           0           0           0           0           0]\n",
            "[          0           0           0           0           0           0           0           0           0           0]\n",
            "[          0           0           0           0           0           0           0           0           0           0]\n",
            "[          0           0           0           0           0           0           0           0           0           0]\n",
            "[          1           0           0           0           0           0           0           0           0           0]\n",
            "[          0           0           0           0           0           0           0           0           0           0]\n",
            "[          1           0           0           0           0           0           0           0           0           0]\n"
          ]
        },
        {
          "output_type": "stream",
          "name": "stderr",
          "text": [
            "image 1/1: 640x480 3 persons, 23 bottles, 2 wine glasss, 1 cup, 1 dining table, 1 cell phone\n",
            "Speed: 3.0ms pre-process, 12.4ms inference, 1.3ms NMS per image at shape (1, 3, 640, 480)\n",
            "image 1/1: 334x500 1 person, 1 giraffe\n",
            "Speed: 1.9ms pre-process, 10.5ms inference, 1.5ms NMS per image at shape (1, 3, 448, 640)\n",
            "image 1/1: 480x640 1 dog, 1 bed, 1 tv\n",
            "Speed: 1.7ms pre-process, 12.1ms inference, 1.3ms NMS per image at shape (1, 3, 480, 640)\n",
            "image 1/1: 480x640 1 wine glass, 1 chair, 1 laptop, 2 keyboards\n",
            "Speed: 1.3ms pre-process, 10.4ms inference, 1.1ms NMS per image at shape (1, 3, 480, 640)\n",
            "image 1/1: 427x640 2 bowls, 1 broccoli\n",
            "Speed: 1.3ms pre-process, 10.2ms inference, 1.1ms NMS per image at shape (1, 3, 448, 640)\n",
            "image 1/1: 480x640 4 boats, 1 chair\n",
            "Speed: 1.5ms pre-process, 10.6ms inference, 1.2ms NMS per image at shape (1, 3, 480, 640)\n",
            "image 1/1: 480x640 8 persons\n",
            "Speed: 1.3ms pre-process, 10.4ms inference, 1.1ms NMS per image at shape (1, 3, 480, 640)\n"
          ]
        },
        {
          "output_type": "stream",
          "name": "stdout",
          "text": [
            "[          1           0           0           0           0           0           0           0           0           0]\n",
            "[          0           0           0           0           0           0           1           0           0           0]\n",
            "[          0           0           0           0           0           0           1           0           0           0]\n",
            "[          0           1           0           0           0           0           0           0           0           0]\n",
            "[          0           0           0           0           1           0           0           0           0           0]\n",
            "[          0           0           0           0           0           0           0           0           0           0]\n",
            "[          1           0           0           0           0           0           0           0           0           0]\n"
          ]
        },
        {
          "output_type": "stream",
          "name": "stderr",
          "text": [
            "image 1/1: 361x640 1 car, 1 cat, 1 bottle\n",
            "Speed: 1.1ms pre-process, 9.4ms inference, 1.2ms NMS per image at shape (1, 3, 384, 640)\n",
            "image 1/1: 425x640 1 person, 1 skis\n",
            "Speed: 1.6ms pre-process, 10.3ms inference, 1.2ms NMS per image at shape (1, 3, 448, 640)\n",
            "image 1/1: 427x640 1 person, 1 potted plant, 1 toilet, 2 vases\n",
            "Speed: 1.2ms pre-process, 10.2ms inference, 1.1ms NMS per image at shape (1, 3, 448, 640)\n",
            "image 1/1: 640x427 1 zebra, 5 giraffes\n",
            "Speed: 1.4ms pre-process, 9.9ms inference, 1.2ms NMS per image at shape (1, 3, 640, 448)\n",
            "image 1/1: 333x500 2 chairs, 2 couchs, 2 potted plants, 2 books\n",
            "Speed: 1.9ms pre-process, 10.2ms inference, 1.1ms NMS per image at shape (1, 3, 448, 640)\n",
            "image 1/1: 640x512 1 person, 1 tie\n",
            "Speed: 1.5ms pre-process, 10.3ms inference, 1.4ms NMS per image at shape (1, 3, 640, 512)\n",
            "image 1/1: 404x640 13 persons, 2 backpacks, 1 kite, 2 chairs\n",
            "Speed: 1.1ms pre-process, 10.0ms inference, 1.1ms NMS per image at shape (1, 3, 416, 640)\n",
            "image 1/1: 640x551 1 person, 1 umbrella\n",
            "Speed: 1.5ms pre-process, 12.8ms inference, 1.1ms NMS per image at shape (1, 3, 640, 576)\n"
          ]
        },
        {
          "output_type": "stream",
          "name": "stdout",
          "text": [
            "[          0           0           0           0           0           0           1           0           0           0]\n",
            "[          1           0           0           0           0           0           0           0           0           0]\n",
            "[          0           0           0           0           0           0           0           0           0           0]\n",
            "[          0           0           0           0           0           0           1           0           0           0]\n",
            "[          0           0           0           0           0           0           0           0           0           1]\n",
            "[          1           0           0           0           0           0           0           0           0           0]\n",
            "[          1           0           0           0           0           0           0           0           0           0]\n"
          ]
        },
        {
          "output_type": "stream",
          "name": "stderr",
          "text": [
            "image 1/1: 640x428 2 persons, 1 skis\n",
            "Speed: 1.3ms pre-process, 9.9ms inference, 1.1ms NMS per image at shape (1, 3, 640, 448)\n",
            "image 1/1: 375x500 5 persons, 6 suitcases, 4 donuts\n",
            "Speed: 2.0ms pre-process, 10.5ms inference, 1.6ms NMS per image at shape (1, 3, 480, 640)\n",
            "image 1/1: 376x500 1 person, 2 skiss\n",
            "Speed: 2.2ms pre-process, 10.7ms inference, 1.1ms NMS per image at shape (1, 3, 512, 640)\n",
            "image 1/1: 480x640 4 persons, 1 backpack\n",
            "Speed: 2.1ms pre-process, 12.2ms inference, 1.2ms NMS per image at shape (1, 3, 480, 640)\n",
            "image 1/1: 425x640 2 persons, 1 bowl\n",
            "Speed: 1.3ms pre-process, 10.2ms inference, 1.1ms NMS per image at shape (1, 3, 448, 640)\n",
            "image 1/1: 384x640 7 persons, 1 train, 2 benchs, 2 handbags\n",
            "Speed: 1.1ms pre-process, 9.1ms inference, 1.1ms NMS per image at shape (1, 3, 384, 640)\n"
          ]
        },
        {
          "output_type": "stream",
          "name": "stdout",
          "text": [
            "[          1           0           0           0           0           0           0           0           0           0]\n",
            "[          1           0           0           0           0           0           0           0           0           0]\n",
            "[          1           0           0           0           0           0           0           0           0           0]\n",
            "[          0           0           0           0           0           0           0           0           1           0]\n",
            "[          1           0           0           0           0           0           0           0           0           0]\n",
            "[          1           0           0           0           0           0           0           0           0           0]\n",
            "[          1           0           0           0           0           0           0           0           0           0]\n"
          ]
        },
        {
          "output_type": "stream",
          "name": "stderr",
          "text": [
            "image 1/1: 427x640 7 persons, 1 car, 3 motorcycles, 1 bus, 1 truck\n",
            "Speed: 1.3ms pre-process, 11.4ms inference, 2.3ms NMS per image at shape (1, 3, 448, 640)\n",
            "image 1/1: 426x640 1 person, 1 bottle, 3 chairs, 3 potted plants, 2 dining tables, 2 tvs, 2 refrigerators, 1 clock, 3 vases\n",
            "Speed: 1.6ms pre-process, 10.2ms inference, 1.2ms NMS per image at shape (1, 3, 448, 640)\n",
            "image 1/1: 375x500 1 person\n",
            "Speed: 2.0ms pre-process, 10.5ms inference, 1.2ms NMS per image at shape (1, 3, 480, 640)\n",
            "image 1/1: 612x612 1 person, 1 cake\n",
            "Speed: 2.8ms pre-process, 13.2ms inference, 1.2ms NMS per image at shape (1, 3, 640, 640)\n",
            "image 1/1: 640x427 1 vase\n",
            "Speed: 1.4ms pre-process, 9.9ms inference, 1.3ms NMS per image at shape (1, 3, 640, 448)\n",
            "image 1/1: 427x640 5 persons, 2 bottles, 4 cups, 6 bowls, 1 dining table, 1 clock\n",
            "Speed: 1.2ms pre-process, 10.3ms inference, 1.2ms NMS per image at shape (1, 3, 448, 640)\n",
            "image 1/1: 427x640 2 persons, 1 cup, 1 dining table\n",
            "Speed: 1.2ms pre-process, 10.2ms inference, 1.1ms NMS per image at shape (1, 3, 448, 640)\n"
          ]
        },
        {
          "output_type": "stream",
          "name": "stdout",
          "text": [
            "[          0           0           0           1           0           0           0           0           0           0]\n",
            "[          0           0           1           0           0           0           0           0           0           0]\n",
            "[          1           0           0           0           0           0           0           0           0           0]\n",
            "[          1           0           0           0           0           0           0           0           0           0]\n",
            "[          0           0           0           0           0           0           0           0           0           0]\n",
            "[          1           0           0           0           0           0           0           0           0           0]\n",
            "[          1           0           0           0           0           0           0           0           0           0]\n"
          ]
        },
        {
          "output_type": "stream",
          "name": "stderr",
          "text": [
            "image 1/1: 555x640 6 persons, 1 bottle\n",
            "Speed: 1.6ms pre-process, 12.7ms inference, 1.3ms NMS per image at shape (1, 3, 576, 640)\n",
            "image 1/1: 480x640 1 cat, 1 laptop, 1 cell phone\n",
            "Speed: 1.3ms pre-process, 10.5ms inference, 1.7ms NMS per image at shape (1, 3, 480, 640)\n",
            "image 1/1: 428x640 3 chairs, 1 dining table, 1 book, 3 vases\n",
            "Speed: 1.5ms pre-process, 10.6ms inference, 1.2ms NMS per image at shape (1, 3, 448, 640)\n",
            "image 1/1: 375x500 1 person, 2 bicycles, 1 motorcycle\n",
            "Speed: 2.0ms pre-process, 10.5ms inference, 1.2ms NMS per image at shape (1, 3, 480, 640)\n",
            "image 1/1: 483x640 1 bottle, 1 chair, 2 potted plants, 1 bed, 1 tv, 6 books, 1 vase\n",
            "Speed: 1.4ms pre-process, 10.7ms inference, 1.1ms NMS per image at shape (1, 3, 512, 640)\n",
            "image 1/1: 640x480 2 persons, 1 bottle, 1 cup, 1 spoon, 1 bowl, 2 chairs\n",
            "Speed: 1.3ms pre-process, 10.1ms inference, 1.1ms NMS per image at shape (1, 3, 640, 480)\n"
          ]
        },
        {
          "output_type": "stream",
          "name": "stdout",
          "text": [
            "[          1           0           0           0           0           0           0           0           0           0]\n",
            "[          0           1           0           0           0           0           0           0           0           0]\n",
            "[          0           0           0           0           0           0           0           0           0           0]\n",
            "[          0           0           0           1           0           0           0           0           0           0]\n",
            "[          0           0           0           0           0           0           0           0           0           1]\n",
            "[          1           0           0           0           0           0           0           0           0           0]\n"
          ]
        },
        {
          "output_type": "stream",
          "name": "stderr",
          "text": [
            "image 1/1: 640x639 2 persons, 1 horse\n",
            "Speed: 1.9ms pre-process, 13.6ms inference, 2.0ms NMS per image at shape (1, 3, 640, 640)\n",
            "image 1/1: 465x640 2 persons, 2 horses\n",
            "Speed: 1.5ms pre-process, 10.5ms inference, 1.5ms NMS per image at shape (1, 3, 480, 640)\n",
            "image 1/1: 429x640 1 car\n",
            "Speed: 1.4ms pre-process, 10.3ms inference, 1.1ms NMS per image at shape (1, 3, 448, 640)\n",
            "image 1/1: 612x612 2 persons, 2 cups, 1 fork, 1 cake, 2 chairs, 1 dining table\n",
            "Speed: 2.8ms pre-process, 13.2ms inference, 1.2ms NMS per image at shape (1, 3, 640, 640)\n",
            "image 1/1: 480x640 3 persons, 1 baseball bat, 2 baseball gloves\n",
            "Speed: 1.5ms pre-process, 11.6ms inference, 1.3ms NMS per image at shape (1, 3, 480, 640)\n",
            "image 1/1: 480x640 2 persons, 1 cell phone\n",
            "Speed: 1.5ms pre-process, 10.5ms inference, 1.1ms NMS per image at shape (1, 3, 480, 640)\n",
            "image 1/1: 640x431 1 dog, 1 horse\n",
            "Speed: 1.3ms pre-process, 9.9ms inference, 1.5ms NMS per image at shape (1, 3, 640, 448)\n"
          ]
        },
        {
          "output_type": "stream",
          "name": "stdout",
          "text": [
            "[          0           0           0           0           0           0           1           0           0           0]\n",
            "[          0           0           0           0           0           0           1           0           0           0]\n",
            "[          0           0           0           0           0           0           0           0           0           0]\n",
            "[          1           0           0           0           0           0           0           0           0           0]\n",
            "[          1           0           0           0           0           0           0           0           0           0]\n",
            "[          0           0           0           0           0           0           0           0           0           0]\n",
            "[          0           0           0           0           0           0           1           0           0           0]\n"
          ]
        },
        {
          "output_type": "stream",
          "name": "stderr",
          "text": [
            "image 1/1: 480x640 1 cat, 1 cup, 1 tv\n",
            "Speed: 1.3ms pre-process, 13.8ms inference, 1.2ms NMS per image at shape (1, 3, 480, 640)\n",
            "image 1/1: 480x640 3 persons, 1 cup\n",
            "Speed: 1.4ms pre-process, 10.4ms inference, 1.1ms NMS per image at shape (1, 3, 480, 640)\n",
            "image 1/1: 426x640 4 elephants\n",
            "Speed: 1.3ms pre-process, 10.2ms inference, 1.1ms NMS per image at shape (1, 3, 448, 640)\n",
            "image 1/1: 428x640 1 wine glass, 1 cup, 2 chairs, 1 couch, 1 dining table, 1 tv, 1 laptop\n",
            "Speed: 1.2ms pre-process, 10.2ms inference, 1.2ms NMS per image at shape (1, 3, 448, 640)\n",
            "image 1/1: 427x640 2 zebras\n",
            "Speed: 1.3ms pre-process, 10.2ms inference, 1.1ms NMS per image at shape (1, 3, 448, 640)\n",
            "image 1/1: 427x640 2 sheeps\n",
            "Speed: 1.2ms pre-process, 10.2ms inference, 1.1ms NMS per image at shape (1, 3, 448, 640)\n",
            "image 1/1: 480x640 2 elephants\n",
            "Speed: 1.3ms pre-process, 10.5ms inference, 1.5ms NMS per image at shape (1, 3, 480, 640)\n"
          ]
        },
        {
          "output_type": "stream",
          "name": "stdout",
          "text": [
            "[          0           0           0           0           0           0           1           0           0           0]\n",
            "[          0           0           0           0           0           0           0           0           0           0]\n",
            "[          0           0           0           0           0           0           1           0           0           0]\n",
            "[          0           0           0           0           0           0           0           0           0           1]\n",
            "[          0           0           0           0           0           0           1           0           0           0]\n",
            "[          0           0           0           0           0           0           1           0           0           0]\n",
            "[          0           0           0           0           0           0           0           0           0           0]\n"
          ]
        },
        {
          "output_type": "stream",
          "name": "stderr",
          "text": [
            "image 1/1: 480x640 5 persons, 1 backpack, 2 bottles, 1 bed, 2 remotes\n",
            "Speed: 1.3ms pre-process, 11.0ms inference, 1.1ms NMS per image at shape (1, 3, 480, 640)\n",
            "image 1/1: 480x640 1 bird, 3 giraffes\n",
            "Speed: 1.4ms pre-process, 11.1ms inference, 1.2ms NMS per image at shape (1, 3, 480, 640)\n",
            "image 1/1: 612x612 1 bowl\n",
            "Speed: 2.9ms pre-process, 13.3ms inference, 1.6ms NMS per image at shape (1, 3, 640, 640)\n",
            "image 1/1: 640x480 1 cake, 1 clock\n",
            "Speed: 1.3ms pre-process, 10.3ms inference, 1.1ms NMS per image at shape (1, 3, 640, 480)\n",
            "image 1/1: 480x640 6 persons, 1 car, 1 bus, 1 truck\n",
            "Speed: 1.3ms pre-process, 10.7ms inference, 1.1ms NMS per image at shape (1, 3, 480, 640)\n",
            "image 1/1: 425x640 1 cat, 1 couch, 1 laptop\n",
            "Speed: 1.2ms pre-process, 10.4ms inference, 1.1ms NMS per image at shape (1, 3, 448, 640)\n",
            "image 1/1: 640x478 1 cake, 1 book\n",
            "Speed: 1.3ms pre-process, 10.3ms inference, 1.1ms NMS per image at shape (1, 3, 640, 480)\n"
          ]
        },
        {
          "output_type": "stream",
          "name": "stdout",
          "text": [
            "[          1           0           0           0           0           0           0           0           0           0]\n",
            "[          0           0           0           0           0           0           1           0           0           0]\n",
            "[          0           0           0           0           0           0           0           0           0           0]\n",
            "[          0           0           0           0           0           0           0           0           0           0]\n",
            "[          1           0           0           0           0           0           0           0           0           0]\n",
            "[          0           1           0           0           0           0           0           0           0           0]\n",
            "[          0           0           0           0           0           0           0           0           0           0]\n"
          ]
        },
        {
          "output_type": "stream",
          "name": "stderr",
          "text": [
            "image 1/1: 480x640 20 persons, 1 car\n",
            "Speed: 1.4ms pre-process, 11.3ms inference, 1.9ms NMS per image at shape (1, 3, 480, 640)\n",
            "image 1/1: 640x429 4 persons, 1 skateboard\n",
            "Speed: 1.3ms pre-process, 10.1ms inference, 1.1ms NMS per image at shape (1, 3, 640, 448)\n",
            "image 1/1: 640x480 2 persons, 4 bicycles\n",
            "Speed: 1.3ms pre-process, 10.3ms inference, 1.1ms NMS per image at shape (1, 3, 640, 480)\n",
            "image 1/1: 612x612 4 persons, 1 bicycle, 3 buss, 1 bird\n",
            "Speed: 2.8ms pre-process, 13.5ms inference, 1.5ms NMS per image at shape (1, 3, 640, 640)\n",
            "image 1/1: 366x640 1 suitcase, 1 bed, 1 tv\n",
            "Speed: 1.2ms pre-process, 9.3ms inference, 1.1ms NMS per image at shape (1, 3, 384, 640)\n",
            "image 1/1: 500x428 8 persons\n",
            "Speed: 2.5ms pre-process, 13.1ms inference, 1.2ms NMS per image at shape (1, 3, 640, 576)\n",
            "image 1/1: 240x320 4 persons, 1 tennis racket\n",
            "Speed: 3.1ms pre-process, 12.7ms inference, 1.7ms NMS per image at shape (1, 3, 480, 640)\n"
          ]
        },
        {
          "output_type": "stream",
          "name": "stdout",
          "text": [
            "[          1           0           0           0           0           0           0           0           0           0]\n",
            "[          1           0           0           0           0           0           0           0           0           0]\n",
            "[          0           0           0           1           0           0           0           0           0           0]\n",
            "[          0           0           0           1           0           0           0           0           0           0]\n",
            "[          0           0           0           0           0           0           0           0           0           1]\n",
            "[          1           0           0           0           0           0           0           0           0           0]\n",
            "[          1           0           0           0           0           0           0           0           0           0]\n"
          ]
        },
        {
          "output_type": "stream",
          "name": "stderr",
          "text": [
            "image 1/1: 500x375 1 person, 1 tennis racket\n",
            "Speed: 3.1ms pre-process, 11.9ms inference, 1.2ms NMS per image at shape (1, 3, 640, 480)\n",
            "image 1/1: 480x640 2 cats, 1 remote\n",
            "Speed: 1.3ms pre-process, 10.7ms inference, 1.2ms NMS per image at shape (1, 3, 480, 640)\n",
            "image 1/1: 480x640 4 bottles, 3 cups, 4 bowls, 1 microwave, 1 sink, 1 refrigerator\n",
            "Speed: 1.2ms pre-process, 10.6ms inference, 1.6ms NMS per image at shape (1, 3, 480, 640)\n",
            "image 1/1: 428x640 1 person, 1 couch\n",
            "Speed: 1.3ms pre-process, 10.5ms inference, 1.2ms NMS per image at shape (1, 3, 448, 640)\n",
            "image 1/1: 320x240 10 persons, 3 backpacks, 1 suitcase, 1 teddy bear\n",
            "Speed: 2.3ms pre-process, 10.3ms inference, 1.1ms NMS per image at shape (1, 3, 640, 480)\n",
            "image 1/1: 480x640 1 bed\n",
            "Speed: 1.6ms pre-process, 11.6ms inference, 1.3ms NMS per image at shape (1, 3, 480, 640)\n",
            "image 1/1: 480x640 1 horse, 6 sheeps, 1 cow, 1 elephant\n",
            "Speed: 1.3ms pre-process, 10.6ms inference, 1.1ms NMS per image at shape (1, 3, 480, 640)\n"
          ]
        },
        {
          "output_type": "stream",
          "name": "stdout",
          "text": [
            "[          1           0           0           0           0           0           0           0           0           0]\n",
            "[          0           0           0           0           0           0           1           0           0           0]\n",
            "[          0           0           0           0           0           0           0           0           0           0]\n",
            "[          1           0           0           0           0           0           0           0           0           0]\n",
            "[          1           0           0           0           0           0           0           0           0           0]\n",
            "[          0           0           0           0           0           0           0           0           0           1]\n",
            "[          0           0           0           0           0           0           1           0           0           0]\n"
          ]
        },
        {
          "output_type": "stream",
          "name": "stderr",
          "text": [
            "image 1/1: 426x640 1 person, 1 dog, 1 horse\n",
            "Speed: 1.2ms pre-process, 10.5ms inference, 2.0ms NMS per image at shape (1, 3, 448, 640)\n",
            "image 1/1: 480x640 2 persons, 1 cake, 4 chairs, 1 laptop, 2 cell phones, 1 book\n",
            "Speed: 1.3ms pre-process, 10.7ms inference, 1.1ms NMS per image at shape (1, 3, 480, 640)\n",
            "image 1/1: 427x640 5 persons, 2 elephants\n",
            "Speed: 1.2ms pre-process, 10.5ms inference, 1.2ms NMS per image at shape (1, 3, 448, 640)\n",
            "image 1/1: 561x640 4 persons, 1 tie\n",
            "Speed: 1.6ms pre-process, 13.0ms inference, 1.2ms NMS per image at shape (1, 3, 576, 640)\n",
            "image 1/1: 480x640 3 persons, 2 wine glasss\n",
            "Speed: 1.2ms pre-process, 10.7ms inference, 1.1ms NMS per image at shape (1, 3, 480, 640)\n",
            "image 1/1: 426x640 6 persons, 1 bottle, 1 cup, 4 bowls, 1 dining table, 1 refrigerator\n",
            "Speed: 1.8ms pre-process, 10.5ms inference, 1.2ms NMS per image at shape (1, 3, 448, 640)\n",
            "image 1/1: 363x640 4 persons\n",
            "Speed: 1.1ms pre-process, 9.6ms inference, 1.2ms NMS per image at shape (1, 3, 384, 640)\n"
          ]
        },
        {
          "output_type": "stream",
          "name": "stdout",
          "text": [
            "[          0           0           0           0           0           0           1           0           0           0]\n",
            "[          0           1           0           0           0           0           0           0           0           0]\n",
            "[          0           0           0           0           0           0           1           0           0           0]\n",
            "[          1           0           0           0           0           0           0           0           0           0]\n",
            "[          1           0           0           0           0           0           0           0           0           0]\n",
            "[          1           0           0           0           0           0           0           0           0           0]\n",
            "[          1           0           0           0           0           0           0           0           0           0]\n"
          ]
        },
        {
          "output_type": "stream",
          "name": "stderr",
          "text": [
            "image 1/1: 480x640 1 sheep\n",
            "Speed: 1.7ms pre-process, 10.7ms inference, 1.1ms NMS per image at shape (1, 3, 480, 640)\n",
            "image 1/1: 480x640 1 cake, 1 tv, 1 remote\n",
            "Speed: 1.3ms pre-process, 10.6ms inference, 1.1ms NMS per image at shape (1, 3, 480, 640)\n",
            "image 1/1: 491x640 1 person, 1 bench, 1 horse\n",
            "Speed: 1.4ms pre-process, 10.9ms inference, 1.2ms NMS per image at shape (1, 3, 512, 640)\n",
            "image 1/1: 332x500 3 persons\n",
            "Speed: 2.7ms pre-process, 12.0ms inference, 1.1ms NMS per image at shape (1, 3, 448, 640)\n",
            "image 1/1: 480x640 1 person, 1 truck, 1 fire hydrant\n",
            "Speed: 1.5ms pre-process, 10.7ms inference, 1.1ms NMS per image at shape (1, 3, 480, 640)\n",
            "image 1/1: 640x480 1 person, 1 handbag, 1 suitcase, 1 clock\n",
            "Speed: 1.2ms pre-process, 10.3ms inference, 1.1ms NMS per image at shape (1, 3, 640, 480)\n",
            "image 1/1: 424x640 1 car, 3 buss\n",
            "Speed: 1.2ms pre-process, 10.5ms inference, 1.1ms NMS per image at shape (1, 3, 448, 640)\n"
          ]
        },
        {
          "output_type": "stream",
          "name": "stdout",
          "text": [
            "[          0           0           0           0           0           0           1           0           0           0]\n",
            "[          0           0           0           0           0           0           0           0           0           0]\n",
            "[          0           0           0           0           0           0           1           0           0           0]\n",
            "[          1           0           0           0           0           0           0           0           0           0]\n",
            "[          0           0           0           1           0           0           0           0           0           0]\n",
            "[          0           0           0           0           0           0           0           0           0           0]\n",
            "[          0           0           0           1           0           0           0           0           0           0]\n"
          ]
        },
        {
          "output_type": "stream",
          "name": "stderr",
          "text": [
            "image 1/1: 230x352 4 apples, 1 potted plant, 1 dining table, 1 oven, 2 refrigerators\n",
            "Speed: 2.1ms pre-process, 10.4ms inference, 2.7ms NMS per image at shape (1, 3, 448, 640)\n",
            "image 1/1: 640x481 9 persons, 1 sports ball, 1 tennis racket, 9 chairs\n",
            "Speed: 1.4ms pre-process, 10.5ms inference, 1.3ms NMS per image at shape (1, 3, 640, 512)\n",
            "image 1/1: 480x640 2 persons, 2 cups, 8 chairs, 1 dining table, 2 books\n",
            "Speed: 1.3ms pre-process, 10.7ms inference, 1.1ms NMS per image at shape (1, 3, 480, 640)\n",
            "image 1/1: 457x640 2 bears\n",
            "Speed: 1.3ms pre-process, 10.7ms inference, 1.1ms NMS per image at shape (1, 3, 480, 640)\n",
            "image 1/1: 334x500 3 zebras\n",
            "Speed: 2.2ms pre-process, 10.5ms inference, 1.2ms NMS per image at shape (1, 3, 448, 640)\n",
            "image 1/1: 426x640 1 person, 1 sports ball, 1 tennis racket\n",
            "Speed: 1.3ms pre-process, 10.4ms inference, 1.2ms NMS per image at shape (1, 3, 448, 640)\n",
            "image 1/1: 480x640 2 persons, 4 cars, 2 backpacks, 2 suitcases\n",
            "Speed: 1.3ms pre-process, 13.1ms inference, 1.3ms NMS per image at shape (1, 3, 480, 640)\n"
          ]
        },
        {
          "output_type": "stream",
          "name": "stdout",
          "text": [
            "[          0           0           0           0           0           1           0           0           0           0]\n",
            "[          1           0           0           0           0           0           0           0           0           0]\n",
            "[          1           0           0           0           0           0           0           0           0           0]\n",
            "[          0           0           0           0           0           0           1           0           0           0]\n",
            "[          0           0           0           0           0           0           1           0           0           0]\n",
            "[          1           0           0           0           0           0           0           0           0           0]\n",
            "[          1           0           0           0           0           0           0           0           0           0]\n"
          ]
        },
        {
          "output_type": "stream",
          "name": "stderr",
          "text": [
            "image 1/1: 640x334 2 persons, 1 suitcase\n",
            "Speed: 1.0ms pre-process, 16.9ms inference, 1.1ms NMS per image at shape (1, 3, 640, 352)\n",
            "image 1/1: 480x640 1 cat, 1 bottle\n",
            "Speed: 1.6ms pre-process, 10.8ms inference, 1.1ms NMS per image at shape (1, 3, 480, 640)\n",
            "image 1/1: 481x640 2 persons, 1 bottle, 1 pizza, 1 chair, 1 cell phone\n",
            "Speed: 1.4ms pre-process, 10.9ms inference, 1.3ms NMS per image at shape (1, 3, 512, 640)\n",
            "image 1/1: 640x384 (no detections)\n",
            "Speed: 1.1ms pre-process, 9.9ms inference, 0.7ms NMS per image at shape (1, 3, 640, 384)\n",
            "image 1/1: 480x640 1 chair, 1 potted plant, 1 bed, 1 tv, 1 laptop, 1 mouse, 2 keyboards, 3 books, 1 vase\n",
            "Speed: 1.5ms pre-process, 10.8ms inference, 1.2ms NMS per image at shape (1, 3, 480, 640)\n",
            "image 1/1: 425x640 1 motorcycle, 1 umbrella\n",
            "Speed: 1.3ms pre-process, 13.2ms inference, 1.3ms NMS per image at shape (1, 3, 448, 640)\n",
            "image 1/1: 334x500 1 zebra\n",
            "Speed: 1.9ms pre-process, 10.4ms inference, 1.1ms NMS per image at shape (1, 3, 448, 640)\n"
          ]
        },
        {
          "output_type": "stream",
          "name": "stdout",
          "text": [
            "[          1           0           0           0           0           0           0           0           0           0]\n",
            "[          0           0           0           0           0           0           1           0           0           0]\n",
            "[          1           0           0           0           0           0           0           0           0           0]\n",
            "[          0           0           0           0           0           0           0           0           0           0]\n",
            "[          0           0           0           0           0           0           0           0           0           1]\n",
            "[          0           0           0           0           0           0           0           0           0           0]\n",
            "[          0           0           0           0           0           0           1           0           0           0]\n"
          ]
        },
        {
          "output_type": "stream",
          "name": "stderr",
          "text": [
            "image 1/1: 426x640 1 person, 1 tennis racket\n",
            "Speed: 1.3ms pre-process, 10.4ms inference, 4.9ms NMS per image at shape (1, 3, 448, 640)\n",
            "image 1/1: 480x640 2 cups, 1 bowl, 1 dining table, 1 book\n",
            "Speed: 1.3ms pre-process, 10.7ms inference, 1.1ms NMS per image at shape (1, 3, 480, 640)\n",
            "image 1/1: 480x640 1 suitcase, 1 chair, 1 bed\n",
            "Speed: 1.4ms pre-process, 10.7ms inference, 1.1ms NMS per image at shape (1, 3, 480, 640)\n",
            "image 1/1: 427x640 3 persons, 1 frisbee, 1 bottle\n",
            "Speed: 1.7ms pre-process, 12.9ms inference, 1.2ms NMS per image at shape (1, 3, 448, 640)\n",
            "image 1/1: 500x498 1 toothbrush\n",
            "Speed: 2.8ms pre-process, 13.5ms inference, 1.2ms NMS per image at shape (1, 3, 640, 640)\n",
            "image 1/1: 426x640 5 sheeps\n",
            "Speed: 1.3ms pre-process, 10.4ms inference, 1.1ms NMS per image at shape (1, 3, 448, 640)\n",
            "image 1/1: 640x361 1 tv\n",
            "Speed: 1.1ms pre-process, 9.9ms inference, 1.1ms NMS per image at shape (1, 3, 640, 384)\n"
          ]
        },
        {
          "output_type": "stream",
          "name": "stdout",
          "text": [
            "[          1           0           0           0           0           0           0           0           0           0]\n",
            "[          0           0           0           0           0           0           0           0           0           0]\n",
            "[          0           0           0           0           0           0           0           0           0           1]\n",
            "[          1           0           0           0           0           0           0           0           0           0]\n",
            "[          0           0           0           0           0           0           0           0           0           0]\n",
            "[          0           0           0           0           0           0           1           0           0           0]\n",
            "[          0           0           0           0           0           0           0           0           0           0]\n"
          ]
        },
        {
          "output_type": "stream",
          "name": "stderr",
          "text": [
            "image 1/1: 480x640 4 persons, 1 baseball bat, 2 baseball gloves\n",
            "Speed: 1.5ms pre-process, 10.8ms inference, 1.2ms NMS per image at shape (1, 3, 480, 640)\n",
            "image 1/1: 640x640 1 train\n",
            "Speed: 1.9ms pre-process, 13.5ms inference, 1.2ms NMS per image at shape (1, 3, 640, 640)\n",
            "image 1/1: 427x640 1 person, 1 bed, 1 laptop\n",
            "Speed: 1.3ms pre-process, 10.4ms inference, 1.2ms NMS per image at shape (1, 3, 448, 640)\n",
            "image 1/1: 480x640 10 persons, 1 chair, 1 tv, 1 laptop, 2 remotes\n",
            "Speed: 1.3ms pre-process, 10.7ms inference, 1.1ms NMS per image at shape (1, 3, 480, 640)\n",
            "image 1/1: 426x640 5 elephants\n",
            "Speed: 1.3ms pre-process, 10.5ms inference, 1.2ms NMS per image at shape (1, 3, 448, 640)\n",
            "image 1/1: 376x500 8 bananas\n",
            "Speed: 2.6ms pre-process, 13.2ms inference, 1.6ms NMS per image at shape (1, 3, 512, 640)\n",
            "image 1/1: 427x640 7 wine glasss, 1 cup, 1 fork, 1 knife, 1 bowl, 1 cake, 1 dining table\n",
            "Speed: 1.3ms pre-process, 10.5ms inference, 1.2ms NMS per image at shape (1, 3, 448, 640)\n"
          ]
        },
        {
          "output_type": "stream",
          "name": "stdout",
          "text": [
            "[          1           0           0           0           0           0           0           0           0           0]\n",
            "[          0           0           0           0           0           0           0           0           0           0]\n",
            "[          0           1           0           0           0           0           0           0           0           0]\n",
            "[          1           0           0           0           0           0           0           0           0           0]\n",
            "[          0           0           0           0           0           0           1           0           0           0]\n",
            "[          0           0           0           0           0           1           0           0           0           0]\n",
            "[          0           0           1           0           0           0           0           0           0           0]\n"
          ]
        },
        {
          "output_type": "stream",
          "name": "stderr",
          "text": [
            "image 1/1: 428x640 1 person, 1 snowboard\n",
            "Speed: 1.3ms pre-process, 13.9ms inference, 1.1ms NMS per image at shape (1, 3, 448, 640)\n",
            "image 1/1: 640x505 1 bird\n",
            "Speed: 1.3ms pre-process, 10.5ms inference, 1.0ms NMS per image at shape (1, 3, 640, 512)\n",
            "image 1/1: 480x640 1 person, 1 chair, 1 laptop\n",
            "Speed: 1.4ms pre-process, 12.3ms inference, 1.4ms NMS per image at shape (1, 3, 480, 640)\n",
            "image 1/1: 313x500 3 zebras\n",
            "Speed: 1.9ms pre-process, 10.3ms inference, 1.1ms NMS per image at shape (1, 3, 416, 640)\n",
            "image 1/1: 427x640 13 persons, 1 sports ball, 1 baseball glove\n",
            "Speed: 1.2ms pre-process, 10.5ms inference, 1.2ms NMS per image at shape (1, 3, 448, 640)\n",
            "image 1/1: 480x640 4 bottles, 1 bowl, 1 potted plant, 2 books\n",
            "Speed: 1.4ms pre-process, 10.7ms inference, 1.3ms NMS per image at shape (1, 3, 480, 640)\n",
            "image 1/1: 480x640 1 person, 2 frisbees\n",
            "Speed: 1.4ms pre-process, 14.8ms inference, 1.2ms NMS per image at shape (1, 3, 480, 640)\n"
          ]
        },
        {
          "output_type": "stream",
          "name": "stdout",
          "text": [
            "[          1           0           0           0           0           0           0           0           0           0]\n",
            "[          0           0           0           0           0           0           0           0           0           0]\n",
            "[          0           1           0           0           0           0           0           0           0           0]\n",
            "[          0           0           0           0           0           0           1           0           0           0]\n",
            "[          1           0           0           0           0           0           0           0           0           0]\n",
            "[          0           0           0           0           0           0           0           0           0           0]\n",
            "[          1           0           0           0           0           0           0           0           0           0]\n"
          ]
        },
        {
          "output_type": "stream",
          "name": "stderr",
          "text": [
            "image 1/1: 640x580 4 cups, 2 ovens, 1 sink\n",
            "Speed: 1.8ms pre-process, 13.3ms inference, 1.3ms NMS per image at shape (1, 3, 640, 608)\n",
            "image 1/1: 423x640 1 bed, 1 toilet\n",
            "Speed: 1.4ms pre-process, 10.5ms inference, 1.1ms NMS per image at shape (1, 3, 448, 640)\n",
            "image 1/1: 427x640 2 persons, 2 horses\n",
            "Speed: 1.2ms pre-process, 10.4ms inference, 1.3ms NMS per image at shape (1, 3, 448, 640)\n",
            "image 1/1: 424x640 2 cats\n",
            "Speed: 1.2ms pre-process, 10.4ms inference, 1.2ms NMS per image at shape (1, 3, 448, 640)\n",
            "image 1/1: 546x640 5 persons, 1 tie, 1 suitcase, 5 bottles, 1 chair\n",
            "Speed: 1.6ms pre-process, 13.0ms inference, 1.4ms NMS per image at shape (1, 3, 576, 640)\n",
            "image 1/1: 425x640 2 sinks\n",
            "Speed: 1.3ms pre-process, 10.5ms inference, 1.2ms NMS per image at shape (1, 3, 448, 640)\n",
            "image 1/1: 480x640 4 persons, 2 bottles, 2 cups, 7 chairs, 2 dining tables, 1 tv, 6 laptops, 1 keyboard\n",
            "Speed: 1.3ms pre-process, 10.7ms inference, 1.2ms NMS per image at shape (1, 3, 480, 640)\n"
          ]
        },
        {
          "output_type": "stream",
          "name": "stdout",
          "text": [
            "[          0           0           0           0           0           0           0           0           0           0]\n",
            "[          0           0           0           0           0           0           0           0           0           0]\n",
            "[          1           0           0           0           0           0           0           0           0           0]\n",
            "[          0           0           0           0           0           0           1           0           0           0]\n",
            "[          1           0           0           0           0           0           0           0           0           0]\n",
            "[          0           0           0           0           0           0           0           0           0           0]\n",
            "[          1           0           0           0           0           0           0           0           0           0]\n"
          ]
        },
        {
          "output_type": "stream",
          "name": "stderr",
          "text": [
            "image 1/1: 480x640 1 person, 1 cake, 1 chair\n",
            "Speed: 1.5ms pre-process, 10.6ms inference, 2.7ms NMS per image at shape (1, 3, 480, 640)\n",
            "image 1/1: 478x640 1 broccoli\n",
            "Speed: 1.3ms pre-process, 10.7ms inference, 1.2ms NMS per image at shape (1, 3, 480, 640)\n",
            "image 1/1: 640x621 1 person, 1 frisbee\n",
            "Speed: 2.0ms pre-process, 13.6ms inference, 1.2ms NMS per image at shape (1, 3, 640, 640)\n",
            "image 1/1: 500x375 5 persons, 1 wine glass, 1 couch\n",
            "Speed: 2.0ms pre-process, 10.3ms inference, 1.1ms NMS per image at shape (1, 3, 640, 480)\n",
            "image 1/1: 375x500 1 couch, 1 bed\n",
            "Speed: 2.0ms pre-process, 10.7ms inference, 1.1ms NMS per image at shape (1, 3, 480, 640)\n",
            "image 1/1: 411x640 4 persons, 1 train\n",
            "Speed: 1.2ms pre-process, 10.2ms inference, 1.1ms NMS per image at shape (1, 3, 416, 640)\n",
            "image 1/1: 438x640 1 cat, 1 tv, 1 keyboard\n",
            "Speed: 1.2ms pre-process, 10.5ms inference, 1.6ms NMS per image at shape (1, 3, 448, 640)\n"
          ]
        },
        {
          "output_type": "stream",
          "name": "stdout",
          "text": [
            "[          1           0           0           0           0           0           0           0           0           0]\n",
            "[          0           0           0           0           0           0           0           0           0           0]\n",
            "[          1           0           0           0           0           0           0           0           0           0]\n",
            "[          1           0           0           0           0           0           0           0           0           0]\n",
            "[          0           0           0           0           0           0           0           0           0           1]\n",
            "[          1           0           0           0           0           0           0           0           0           0]\n",
            "[          0           0           0           0           0           0           1           0           0           0]\n"
          ]
        },
        {
          "output_type": "stream",
          "name": "stderr",
          "text": [
            "image 1/1: 640x383 1 bed\n",
            "Speed: 1.4ms pre-process, 11.8ms inference, 1.2ms NMS per image at shape (1, 3, 640, 384)\n",
            "image 1/1: 480x640 4 persons, 1 baseball bat\n",
            "Speed: 1.4ms pre-process, 10.7ms inference, 1.2ms NMS per image at shape (1, 3, 480, 640)\n",
            "image 1/1: 427x640 7 persons, 1 motorcycle\n",
            "Speed: 1.3ms pre-process, 10.5ms inference, 1.2ms NMS per image at shape (1, 3, 448, 640)\n",
            "image 1/1: 455x291 (no detections)\n",
            "Speed: 2.1ms pre-process, 9.9ms inference, 0.8ms NMS per image at shape (1, 3, 640, 416)\n",
            "image 1/1: 480x640 (no detections)\n",
            "Speed: 1.4ms pre-process, 10.7ms inference, 0.8ms NMS per image at shape (1, 3, 480, 640)\n",
            "image 1/1: 351x640 1 car, 1 train, 1 truck\n",
            "Speed: 1.1ms pre-process, 9.1ms inference, 1.2ms NMS per image at shape (1, 3, 352, 640)\n",
            "image 1/1: 640x424 4 persons, 2 umbrellas, 1 tie, 1 baseball glove\n",
            "Speed: 1.3ms pre-process, 10.1ms inference, 1.2ms NMS per image at shape (1, 3, 640, 448)\n"
          ]
        },
        {
          "output_type": "stream",
          "name": "stdout",
          "text": [
            "[          0           0           0           0           0           0           0           0           0           1]\n",
            "[          1           0           0           0           0           0           0           0           0           0]\n",
            "[          1           0           0           0           0           0           0           0           0           0]\n",
            "[          0           0           0           0           0           0           0           0           0           0]\n",
            "[          0           0           0           0           0           0           0           0           0           0]\n",
            "[          0           0           0           0           0           0           0           0           0           0]\n",
            "[          1           0           0           0           0           0           0           0           0           0]\n"
          ]
        },
        {
          "output_type": "stream",
          "name": "stderr",
          "text": [
            "image 1/1: 612x612 1 person, 1 surfboard\n",
            "Speed: 2.8ms pre-process, 13.5ms inference, 4.6ms NMS per image at shape (1, 3, 640, 640)\n",
            "image 1/1: 480x640 3 persons\n",
            "Speed: 1.3ms pre-process, 10.8ms inference, 1.1ms NMS per image at shape (1, 3, 480, 640)\n",
            "image 1/1: 442x640 1 bench, 1 suitcase, 1 chair, 1 couch\n",
            "Speed: 1.3ms pre-process, 10.5ms inference, 1.3ms NMS per image at shape (1, 3, 448, 640)\n",
            "image 1/1: 427x640 2 persons, 2 skiss\n",
            "Speed: 1.2ms pre-process, 10.4ms inference, 1.1ms NMS per image at shape (1, 3, 448, 640)\n",
            "image 1/1: 380x500 1 train\n",
            "Speed: 2.1ms pre-process, 10.9ms inference, 1.3ms NMS per image at shape (1, 3, 512, 640)\n",
            "image 1/1: 480x640 1 bottle, 1 bowl, 6 chairs, 1 dining table\n",
            "Speed: 1.3ms pre-process, 10.7ms inference, 1.2ms NMS per image at shape (1, 3, 480, 640)\n",
            "image 1/1: 612x612 4 persons, 1 bus\n",
            "Speed: 3.7ms pre-process, 13.5ms inference, 1.1ms NMS per image at shape (1, 3, 640, 640)\n"
          ]
        },
        {
          "output_type": "stream",
          "name": "stdout",
          "text": [
            "[          1           0           0           0           0           0           0           0           0           0]\n",
            "[          1           0           0           0           0           0           0           0           0           0]\n",
            "[          0           0           0           0           0           0           0           0           0           0]\n",
            "[          1           0           0           0           0           0           0           0           0           0]\n",
            "[          0           0           0           0           0           0           0           0           0           0]\n",
            "[          0           0           0           0           0           0           0           0           0           0]\n",
            "[          0           0           0           1           0           0           0           0           0           0]\n"
          ]
        },
        {
          "output_type": "stream",
          "name": "stderr",
          "text": [
            "image 1/1: 480x640 3 zebras\n",
            "Speed: 1.6ms pre-process, 11.0ms inference, 1.2ms NMS per image at shape (1, 3, 480, 640)\n",
            "image 1/1: 334x500 1 cat, 1 cup, 1 cell phone\n",
            "Speed: 2.2ms pre-process, 10.5ms inference, 1.2ms NMS per image at shape (1, 3, 448, 640)\n",
            "image 1/1: 427x640 2 zebras\n",
            "Speed: 1.3ms pre-process, 10.4ms inference, 1.3ms NMS per image at shape (1, 3, 448, 640)\n",
            "image 1/1: 425x640 1 cake\n",
            "Speed: 1.3ms pre-process, 10.4ms inference, 1.8ms NMS per image at shape (1, 3, 448, 640)\n",
            "image 1/1: 480x640 6 cars, 1 truck, 1 traffic light\n",
            "Speed: 1.3ms pre-process, 10.7ms inference, 1.3ms NMS per image at shape (1, 3, 480, 640)\n",
            "image 1/1: 640x480 1 bottle, 1 refrigerator\n",
            "Speed: 1.4ms pre-process, 10.3ms inference, 1.1ms NMS per image at shape (1, 3, 640, 480)\n",
            "image 1/1: 463x640 1 person, 1 handbag, 1 bottle, 2 laptops, 2 cell phones, 1 book\n",
            "Speed: 1.3ms pre-process, 10.7ms inference, 1.2ms NMS per image at shape (1, 3, 480, 640)\n"
          ]
        },
        {
          "output_type": "stream",
          "name": "stdout",
          "text": [
            "[          0           0           0           0           0           0           1           0           0           0]\n",
            "[          0           0           0           0           0           0           1           0           0           0]\n",
            "[          0           0           0           0           0           0           1           0           0           0]\n",
            "[          0           0           0           0           0           0           0           0           0           0]\n",
            "[          0           0           0           1           0           0           0           0           0           0]\n",
            "[          0           0           0           0           0           0           0           0           0           0]\n",
            "[          0           1           0           0           0           0           0           0           0           0]\n"
          ]
        },
        {
          "output_type": "stream",
          "name": "stderr",
          "text": [
            "image 1/1: 640x424 1 person, 10 cars, 1 truck, 1 traffic light\n",
            "Speed: 1.2ms pre-process, 12.7ms inference, 1.2ms NMS per image at shape (1, 3, 640, 448)\n",
            "image 1/1: 480x640 12 persons\n",
            "Speed: 1.4ms pre-process, 10.8ms inference, 1.4ms NMS per image at shape (1, 3, 480, 640)\n",
            "image 1/1: 640x444 1 person, 1 skis\n",
            "Speed: 1.4ms pre-process, 10.1ms inference, 1.1ms NMS per image at shape (1, 3, 640, 448)\n",
            "image 1/1: 480x640 3 persons, 1 sports ball, 1 tennis racket\n",
            "Speed: 1.3ms pre-process, 10.7ms inference, 1.1ms NMS per image at shape (1, 3, 480, 640)\n",
            "image 1/1: 480x640 4 persons, 1 bench\n",
            "Speed: 1.2ms pre-process, 10.6ms inference, 1.1ms NMS per image at shape (1, 3, 480, 640)\n",
            "image 1/1: 427x640 3 persons, 1 tennis racket\n",
            "Speed: 1.2ms pre-process, 10.5ms inference, 1.1ms NMS per image at shape (1, 3, 448, 640)\n",
            "image 1/1: 480x640 1 cup, 1 bowl, 1 potted plant\n",
            "Speed: 1.2ms pre-process, 10.7ms inference, 1.1ms NMS per image at shape (1, 3, 480, 640)\n"
          ]
        },
        {
          "output_type": "stream",
          "name": "stdout",
          "text": [
            "[          0           0           0           1           0           0           0           0           0           0]\n",
            "[          1           0           0           0           0           0           0           0           0           0]\n",
            "[          1           0           0           0           0           0           0           0           0           0]\n",
            "[          1           0           0           0           0           0           0           0           0           0]\n",
            "[          1           0           0           0           0           0           0           0           0           0]\n",
            "[          1           0           0           0           0           0           0           0           0           0]\n",
            "[          0           0           0           0           0           0           0           0           0           0]\n"
          ]
        },
        {
          "output_type": "stream",
          "name": "stderr",
          "text": [
            "image 1/1: 361x640 2 bowls, 1 dining table\n",
            "Speed: 1.1ms pre-process, 13.6ms inference, 1.1ms NMS per image at shape (1, 3, 384, 640)\n",
            "image 1/1: 640x482 1 person, 1 bottle, 1 bowl\n",
            "Speed: 1.4ms pre-process, 10.5ms inference, 1.2ms NMS per image at shape (1, 3, 640, 512)\n",
            "image 1/1: 426x640 1 dog, 1 backpack, 1 book\n",
            "Speed: 1.2ms pre-process, 10.5ms inference, 1.1ms NMS per image at shape (1, 3, 448, 640)\n",
            "image 1/1: 428x640 5 persons, 1 sports ball, 1 baseball bat, 1 skateboard\n",
            "Speed: 1.2ms pre-process, 10.4ms inference, 2.2ms NMS per image at shape (1, 3, 448, 640)\n",
            "image 1/1: 605x640 1 person, 1 tie, 2 bottles, 1 bowl, 1 dining table, 1 remote\n",
            "Speed: 1.6ms pre-process, 13.2ms inference, 1.5ms NMS per image at shape (1, 3, 608, 640)\n",
            "image 1/1: 309x500 (no detections)\n",
            "Speed: 1.9ms pre-process, 10.3ms inference, 0.4ms NMS per image at shape (1, 3, 416, 640)\n",
            "image 1/1: 640x478 1 person, 1 car, 1 umbrella\n",
            "Speed: 1.4ms pre-process, 10.4ms inference, 1.1ms NMS per image at shape (1, 3, 640, 480)\n"
          ]
        },
        {
          "output_type": "stream",
          "name": "stdout",
          "text": [
            "[          0           0           0           0           0           0           0           0           0           0]\n",
            "[          1           0           0           0           0           0           0           0           0           0]\n",
            "[          0           0           0           0           0           0           1           0           0           0]\n",
            "[          1           0           0           0           0           0           0           0           0           0]\n",
            "[          1           0           0           0           0           0           0           0           0           0]\n",
            "[          0           0           0           0           0           0           0           0           0           0]\n",
            "[          1           0           0           0           0           0           0           0           0           0]\n"
          ]
        },
        {
          "output_type": "stream",
          "name": "stderr",
          "text": [
            "image 1/1: 480x640 4 bottles, 2 wine glasss, 1 bowl, 3 chairs, 1 dining table\n",
            "Speed: 4.2ms pre-process, 11.1ms inference, 1.2ms NMS per image at shape (1, 3, 480, 640)\n",
            "image 1/1: 427x640 1 car, 4 cows, 1 handbag\n",
            "Speed: 1.2ms pre-process, 10.4ms inference, 1.1ms NMS per image at shape (1, 3, 448, 640)\n",
            "image 1/1: 500x375 1 keyboard, 1 cell phone\n",
            "Speed: 2.0ms pre-process, 10.3ms inference, 1.1ms NMS per image at shape (1, 3, 640, 480)\n",
            "image 1/1: 480x640 2 cups, 1 fork, 1 knife, 1 spoon, 1 dining table, 1 toilet\n",
            "Speed: 1.3ms pre-process, 10.7ms inference, 1.1ms NMS per image at shape (1, 3, 480, 640)\n",
            "image 1/1: 612x612 1 toilet\n",
            "Speed: 4.1ms pre-process, 13.5ms inference, 1.1ms NMS per image at shape (1, 3, 640, 640)\n",
            "image 1/1: 640x427 2 persons, 1 snowboard\n",
            "Speed: 1.3ms pre-process, 10.5ms inference, 1.2ms NMS per image at shape (1, 3, 640, 448)\n",
            "image 1/1: 480x640 2 persons, 1 dog, 1 horse, 1 cow\n",
            "Speed: 1.3ms pre-process, 10.7ms inference, 1.1ms NMS per image at shape (1, 3, 480, 640)\n"
          ]
        },
        {
          "output_type": "stream",
          "name": "stdout",
          "text": [
            "[          0           0           0           0           0           0           0           0           0           0]\n",
            "[          0           0           0           1           0           0           0           0           0           0]\n",
            "[          0           0           0           0           0           0           0           0           0           0]\n",
            "[          0           0           0           0           0           0           0           0           0           0]\n",
            "[          0           0           0           0           0           0           0           0           0           0]\n",
            "[          1           0           0           0           0           0           0           0           0           0]\n",
            "[          0           0           0           0           0           0           1           0           0           0]\n"
          ]
        },
        {
          "output_type": "stream",
          "name": "stderr",
          "text": [
            "image 1/1: 427x640 1 person, 1 surfboard\n",
            "Speed: 1.2ms pre-process, 19.5ms inference, 1.6ms NMS per image at shape (1, 3, 448, 640)\n",
            "image 1/1: 359x640 1 cup, 1 dining table\n",
            "Speed: 1.1ms pre-process, 9.0ms inference, 1.1ms NMS per image at shape (1, 3, 384, 640)\n",
            "image 1/1: 480x640 3 dogs, 1 bear\n",
            "Speed: 1.3ms pre-process, 10.7ms inference, 1.1ms NMS per image at shape (1, 3, 480, 640)\n",
            "image 1/1: 427x640 1 person, 1 surfboard\n",
            "Speed: 1.2ms pre-process, 10.5ms inference, 1.1ms NMS per image at shape (1, 3, 448, 640)\n",
            "image 1/1: 480x640 3 broccolis\n",
            "Speed: 1.3ms pre-process, 10.7ms inference, 1.1ms NMS per image at shape (1, 3, 480, 640)\n",
            "image 1/1: 427x640 3 persons, 1 bicycle, 1 tennis racket\n",
            "Speed: 1.3ms pre-process, 10.5ms inference, 1.1ms NMS per image at shape (1, 3, 448, 640)\n",
            "image 1/1: 640x480 3 persons, 1 cup\n",
            "Speed: 1.2ms pre-process, 10.3ms inference, 1.1ms NMS per image at shape (1, 3, 640, 480)\n"
          ]
        },
        {
          "output_type": "stream",
          "name": "stdout",
          "text": [
            "[          1           0           0           0           0           0           0           0           0           0]\n",
            "[          0           0           0           0           0           0           0           0           0           0]\n",
            "[          0           0           0           0           0           0           1           0           0           0]\n",
            "[          1           0           0           0           0           0           0           0           0           0]\n",
            "[          0           0           0           0           0           0           0           0           0           0]\n",
            "[          1           0           0           0           0           0           0           0           0           0]\n",
            "[          1           0           0           0           0           0           0           0           0           0]\n"
          ]
        },
        {
          "output_type": "stream",
          "name": "stderr",
          "text": [
            "image 1/1: 444x640 3 persons, 1 frisbee\n",
            "Speed: 1.2ms pre-process, 10.5ms inference, 2.2ms NMS per image at shape (1, 3, 448, 640)\n",
            "image 1/1: 480x640 1 person, 1 sports ball, 1 tennis racket, 16 chairs\n",
            "Speed: 1.4ms pre-process, 10.8ms inference, 1.2ms NMS per image at shape (1, 3, 480, 640)\n",
            "image 1/1: 425x640 1 cup, 2 chairs, 2 laptops\n",
            "Speed: 1.2ms pre-process, 10.5ms inference, 1.1ms NMS per image at shape (1, 3, 448, 640)\n",
            "image 1/1: 640x640 2 cars, 1 dog\n",
            "Speed: 1.7ms pre-process, 13.5ms inference, 1.1ms NMS per image at shape (1, 3, 640, 640)\n",
            "image 1/1: 426x640 1 cat\n",
            "Speed: 1.3ms pre-process, 10.5ms inference, 1.1ms NMS per image at shape (1, 3, 448, 640)\n",
            "image 1/1: 480x640 6 persons, 1 train, 1 traffic light, 1 handbag\n",
            "Speed: 1.4ms pre-process, 10.8ms inference, 2.3ms NMS per image at shape (1, 3, 480, 640)\n",
            "image 1/1: 425x640 3 persons\n",
            "Speed: 1.2ms pre-process, 10.5ms inference, 1.3ms NMS per image at shape (1, 3, 448, 640)\n"
          ]
        },
        {
          "output_type": "stream",
          "name": "stdout",
          "text": [
            "[          1           0           0           0           0           0           0           0           0           0]\n",
            "[          1           0           0           0           0           0           0           0           0           0]\n",
            "[          0           1           0           0           0           0           0           0           0           0]\n",
            "[          0           0           0           0           0           0           1           0           0           0]\n",
            "[          0           0           0           0           0           0           0           0           0           0]\n",
            "[          1           0           0           0           0           0           0           0           0           0]\n"
          ]
        },
        {
          "output_type": "stream",
          "name": "stderr",
          "text": [
            "image 1/1: 427x640 3 persons, 3 horses\n",
            "Speed: 1.3ms pre-process, 10.4ms inference, 1.3ms NMS per image at shape (1, 3, 448, 640)\n",
            "image 1/1: 480x640 1 bottle, 1 wine glass, 3 cups, 1 knife, 1 spoon, 1 dining table\n",
            "Speed: 1.3ms pre-process, 10.7ms inference, 1.2ms NMS per image at shape (1, 3, 480, 640)\n",
            "image 1/1: 612x612 2 broccolis\n",
            "Speed: 2.7ms pre-process, 13.5ms inference, 1.1ms NMS per image at shape (1, 3, 640, 640)\n",
            "image 1/1: 427x640 8 cars, 1 truck, 1 sports ball\n",
            "Speed: 1.2ms pre-process, 10.5ms inference, 1.1ms NMS per image at shape (1, 3, 448, 640)\n",
            "image 1/1: 500x375 1 toilet\n",
            "Speed: 2.0ms pre-process, 10.3ms inference, 1.1ms NMS per image at shape (1, 3, 640, 480)\n",
            "image 1/1: 426x640 1 chair, 1 bed, 2 dining tables\n",
            "Speed: 1.2ms pre-process, 10.5ms inference, 1.1ms NMS per image at shape (1, 3, 448, 640)\n",
            "image 1/1: 400x600 1 motorcycle\n",
            "Speed: 1.9ms pre-process, 10.4ms inference, 1.1ms NMS per image at shape (1, 3, 448, 640)\n"
          ]
        },
        {
          "output_type": "stream",
          "name": "stdout",
          "text": [
            "[          1           0           0           0           0           0           0           0           0           0]\n",
            "[          1           0           0           0           0           0           0           0           0           0]\n",
            "[          0           0           0           0           0           0           0           0           0           0]\n",
            "[          0           0           0           0           1           0           0           0           0           0]\n",
            "[          0           0           0           1           0           0           0           0           0           0]\n",
            "[          0           0           0           0           0           0           0           0           0           0]\n",
            "[          0           0           0           0           0           0           0           0           0           1]\n",
            "[          0           0           0           0           0           0           0           0           0           0]\n"
          ]
        },
        {
          "output_type": "stream",
          "name": "stderr",
          "text": [
            "image 1/1: 640x478 1 person, 1 cell phone\n",
            "Speed: 1.3ms pre-process, 10.3ms inference, 2.8ms NMS per image at shape (1, 3, 640, 480)\n",
            "image 1/1: 480x640 1 cat, 1 mouse\n",
            "Speed: 1.6ms pre-process, 12.2ms inference, 1.1ms NMS per image at shape (1, 3, 480, 640)\n",
            "image 1/1: 640x427 1 person, 1 sports ball, 1 tennis racket\n",
            "Speed: 1.3ms pre-process, 10.1ms inference, 1.2ms NMS per image at shape (1, 3, 640, 448)\n",
            "image 1/1: 427x640 8 persons\n",
            "Speed: 1.3ms pre-process, 10.5ms inference, 1.2ms NMS per image at shape (1, 3, 448, 640)\n",
            "image 1/1: 365x500 5 persons, 2 benchs\n",
            "Speed: 2.1ms pre-process, 10.7ms inference, 1.1ms NMS per image at shape (1, 3, 480, 640)\n",
            "image 1/1: 480x640 16 bottles, 1 refrigerator\n",
            "Speed: 1.9ms pre-process, 13.6ms inference, 1.4ms NMS per image at shape (1, 3, 480, 640)\n",
            "image 1/1: 640x480 3 persons, 3 buss, 1 backpack\n",
            "Speed: 1.3ms pre-process, 10.3ms inference, 1.1ms NMS per image at shape (1, 3, 640, 480)\n"
          ]
        },
        {
          "output_type": "stream",
          "name": "stdout",
          "text": [
            "[          1           0           0           0           0           0           0           0           0           0]\n",
            "[          0           0           0           0           0           0           1           0           0           0]\n",
            "[          0           0           0           0           0           0           0           0           1           0]\n",
            "[          1           0           0           0           0           0           0           0           0           0]\n",
            "[          1           0           0           0           0           0           0           0           0           0]\n",
            "[          0           0           0           0           0           0           0           0           0           0]\n",
            "[          0           0           0           1           0           0           0           0           0           0]\n"
          ]
        },
        {
          "output_type": "stream",
          "name": "stderr",
          "text": [
            "image 1/1: 640x480 2 persons, 1 horse\n",
            "Speed: 1.3ms pre-process, 13.4ms inference, 1.3ms NMS per image at shape (1, 3, 640, 480)\n",
            "image 1/1: 480x640 9 broccolis\n",
            "Speed: 1.3ms pre-process, 10.8ms inference, 1.2ms NMS per image at shape (1, 3, 480, 640)\n",
            "image 1/1: 375x500 1 cup, 1 bowl, 2 broccolis, 1 chair, 1 dining table\n",
            "Speed: 2.0ms pre-process, 10.6ms inference, 1.1ms NMS per image at shape (1, 3, 480, 640)\n",
            "image 1/1: 480x640 2 persons, 1 bottle\n",
            "Speed: 1.2ms pre-process, 10.6ms inference, 1.1ms NMS per image at shape (1, 3, 480, 640)\n",
            "image 1/1: 428x640 3 persons, 1 car, 15 motorcycles\n",
            "Speed: 1.3ms pre-process, 10.5ms inference, 1.1ms NMS per image at shape (1, 3, 448, 640)\n",
            "image 1/1: 421x640 1 bottle, 1 chair, 1 couch, 3 potted plants, 1 tv, 1 laptop\n",
            "Speed: 1.2ms pre-process, 10.4ms inference, 1.1ms NMS per image at shape (1, 3, 448, 640)\n",
            "image 1/1: 480x640 2 persons, 2 cars, 2 motorcycles\n",
            "Speed: 1.3ms pre-process, 10.8ms inference, 1.2ms NMS per image at shape (1, 3, 480, 640)\n"
          ]
        },
        {
          "output_type": "stream",
          "name": "stdout",
          "text": [
            "[          1           0           0           0           0           0           0           0           0           0]\n",
            "[          0           0           0           0           1           0           0           0           0           0]\n",
            "[          0           0           1           0           0           0           0           0           0           0]\n",
            "[          1           0           0           0           0           0           0           0           0           0]\n",
            "[          0           0           0           0           0           0           0           0           0           0]\n",
            "[          0           0           0           0           0           0           0           0           0           0]\n",
            "[          1           0           0           0           0           0           0           0           0           0]\n"
          ]
        },
        {
          "output_type": "stream",
          "name": "stderr",
          "text": [
            "image 1/1: 427x640 3 persons, 3 surfboards\n",
            "Speed: 1.3ms pre-process, 11.1ms inference, 2.6ms NMS per image at shape (1, 3, 448, 640)\n",
            "image 1/1: 427x640 4 sheeps\n",
            "Speed: 1.3ms pre-process, 10.6ms inference, 1.5ms NMS per image at shape (1, 3, 448, 640)\n",
            "image 1/1: 480x640 1 person, 3 motorcycles, 1 truck\n",
            "Speed: 1.4ms pre-process, 10.7ms inference, 1.1ms NMS per image at shape (1, 3, 480, 640)\n",
            "image 1/1: 375x500 2 persons, 1 giraffe\n",
            "Speed: 2.1ms pre-process, 13.2ms inference, 1.2ms NMS per image at shape (1, 3, 480, 640)\n",
            "image 1/1: 459x640 2 persons, 2 motorcycles, 1 traffic light, 1 chair, 1 potted plant, 1 teddy bear\n",
            "Speed: 1.5ms pre-process, 10.7ms inference, 1.1ms NMS per image at shape (1, 3, 480, 640)\n",
            "image 1/1: 427x640 5 persons, 7 cars, 1 bus, 1 truck\n",
            "Speed: 1.3ms pre-process, 10.5ms inference, 1.2ms NMS per image at shape (1, 3, 448, 640)\n",
            "image 1/1: 640x480 1 person, 1 bench\n",
            "Speed: 1.6ms pre-process, 10.4ms inference, 1.1ms NMS per image at shape (1, 3, 640, 480)\n"
          ]
        },
        {
          "output_type": "stream",
          "name": "stdout",
          "text": [
            "[          1           0           0           0           0           0           0           0           0           0]\n",
            "[          0           0           0           0           0           0           1           0           0           0]\n",
            "[          0           0           0           1           0           0           0           0           0           0]\n",
            "[          0           0           0           0           0           0           1           0           0           0]\n",
            "[          1           0           0           0           0           0           0           0           0           0]\n",
            "[          0           0           0           1           0           0           0           0           0           0]\n",
            "[          1           0           0           0           0           0           0           0           0           0]\n"
          ]
        },
        {
          "output_type": "stream",
          "name": "stderr",
          "text": [
            "image 1/1: 480x640 1 bowl, 1 broccoli, 2 cakes\n",
            "Speed: 1.2ms pre-process, 10.7ms inference, 1.1ms NMS per image at shape (1, 3, 480, 640)\n",
            "image 1/1: 500x333 1 person, 1 pizza\n",
            "Speed: 1.9ms pre-process, 10.1ms inference, 1.6ms NMS per image at shape (1, 3, 640, 448)\n",
            "image 1/1: 400x600 2 persons, 1 frisbee, 1 bottle\n",
            "Speed: 1.9ms pre-process, 10.5ms inference, 1.2ms NMS per image at shape (1, 3, 448, 640)\n",
            "image 1/1: 335x500 5 persons, 4 frisbees, 1 baseball glove\n",
            "Speed: 1.9ms pre-process, 10.4ms inference, 1.2ms NMS per image at shape (1, 3, 448, 640)\n",
            "image 1/1: 640x427 2 persons, 1 bird, 1 cup, 9 chairs\n",
            "Speed: 1.3ms pre-process, 10.1ms inference, 1.1ms NMS per image at shape (1, 3, 640, 448)\n",
            "image 1/1: 640x427 2 persons, 1 sports ball, 2 chairs\n",
            "Speed: 1.2ms pre-process, 10.0ms inference, 1.1ms NMS per image at shape (1, 3, 640, 448)\n",
            "image 1/1: 480x640 1 tv, 1 mouse, 1 keyboard\n",
            "Speed: 1.3ms pre-process, 10.7ms inference, 1.3ms NMS per image at shape (1, 3, 480, 640)\n",
            "image 1/1: 375x500 1 car, 1 dog\n",
            "Speed: 1.9ms pre-process, 11.4ms inference, 1.3ms NMS per image at shape (1, 3, 480, 640)\n"
          ]
        },
        {
          "output_type": "stream",
          "name": "stdout",
          "text": [
            "[          0           0           0           0           0           0           0           0           0           0]\n",
            "[          0           0           0           0           0           0           0           1           0           0]\n",
            "[          0           0           0           0           0           0           0           0           0           0]\n",
            "[          1           0           0           0           0           0           0           0           0           0]\n",
            "[          0           0           0           0           0           0           0           0           0           0]\n",
            "[          1           0           0           0           0           0           0           0           0           0]\n",
            "[          0           0           0           0           0           0           0           0           0           0]\n",
            "[          0           0           0           0           0           0           0           0           0           0]\n"
          ]
        },
        {
          "output_type": "stream",
          "name": "stderr",
          "text": [
            "image 1/1: 425x640 16 persons, 3 cups, 16 chairs, 2 dining tables, 2 tvs, 1 clock\n",
            "Speed: 1.3ms pre-process, 10.5ms inference, 1.4ms NMS per image at shape (1, 3, 448, 640)\n",
            "image 1/1: 640x426 11 persons, 1 tennis racket, 1 chair\n",
            "Speed: 1.2ms pre-process, 11.6ms inference, 1.2ms NMS per image at shape (1, 3, 640, 448)\n",
            "image 1/1: 375x500 2 chairs, 1 couch, 1 tv\n",
            "Speed: 2.0ms pre-process, 10.7ms inference, 1.1ms NMS per image at shape (1, 3, 480, 640)\n",
            "image 1/1: 480x640 1 chair, 1 couch, 3 potted plants, 1 vase\n",
            "Speed: 1.6ms pre-process, 10.7ms inference, 1.1ms NMS per image at shape (1, 3, 480, 640)\n",
            "image 1/1: 640x427 1 knife, 1 microwave, 1 oven, 1 refrigerator\n",
            "Speed: 1.2ms pre-process, 10.1ms inference, 1.1ms NMS per image at shape (1, 3, 640, 448)\n",
            "image 1/1: 640x458 5 persons, 5 cars, 1 bus, 1 truck, 1 traffic light\n",
            "Speed: 1.7ms pre-process, 14.4ms inference, 1.3ms NMS per image at shape (1, 3, 640, 480)\n",
            "image 1/1: 480x640 1 oven\n",
            "Speed: 1.3ms pre-process, 10.7ms inference, 1.2ms NMS per image at shape (1, 3, 480, 640)\n"
          ]
        },
        {
          "output_type": "stream",
          "name": "stdout",
          "text": [
            "[          1           0           0           0           0           0           0           0           0           0]\n",
            "[          1           0           0           0           0           0           0           0           0           0]\n",
            "[          0           0           0           0           0           0           0           0           0           1]\n",
            "[          0           0           0           0           0           0           0           0           0           1]\n",
            "[          0           0           0           0           0           0           0           0           0           0]\n",
            "[          0           0           0           1           0           0           0           0           0           0]\n",
            "[          0           0           0           0           0           0           0           0           0           0]\n"
          ]
        },
        {
          "output_type": "stream",
          "name": "stderr",
          "text": [
            "image 1/1: 480x640 9 persons, 1 bottle, 2 cups, 10 laptops, 2 mouses, 1 keyboard\n",
            "Speed: 1.4ms pre-process, 16.4ms inference, 1.4ms NMS per image at shape (1, 3, 480, 640)\n",
            "image 1/1: 531x640 1 banana\n",
            "Speed: 1.5ms pre-process, 12.9ms inference, 1.1ms NMS per image at shape (1, 3, 544, 640)\n",
            "image 1/1: 426x640 1 person, 1 tie\n",
            "Speed: 1.3ms pre-process, 10.5ms inference, 1.2ms NMS per image at shape (1, 3, 448, 640)\n",
            "image 1/1: 449x640 1 bowl, 2 chairs, 2 potted plants, 1 laptop, 1 sink\n",
            "Speed: 1.5ms pre-process, 10.7ms inference, 1.2ms NMS per image at shape (1, 3, 480, 640)\n",
            "image 1/1: 640x427 1 person\n",
            "Speed: 1.2ms pre-process, 10.1ms inference, 1.1ms NMS per image at shape (1, 3, 640, 448)\n",
            "image 1/1: 425x640 2 persons, 2 cars, 1 bus\n",
            "Speed: 1.7ms pre-process, 11.4ms inference, 1.5ms NMS per image at shape (1, 3, 448, 640)\n",
            "image 1/1: 428x640 2 persons\n",
            "Speed: 1.2ms pre-process, 10.4ms inference, 1.1ms NMS per image at shape (1, 3, 448, 640)\n"
          ]
        },
        {
          "output_type": "stream",
          "name": "stdout",
          "text": [
            "[          0           1           0           0           0           0           0           0           0           0]\n",
            "[          0           0           0           0           0           0           0           0           0           0]\n",
            "[          1           0           0           0           0           0           0           0           0           0]\n",
            "[          0           1           0           0           0           0           0           0           0           0]\n",
            "[          1           0           0           0           0           0           0           0           0           0]\n",
            "[          0           0           0           1           0           0           0           0           0           0]\n",
            "[          1           0           0           0           0           0           0           0           0           0]\n"
          ]
        },
        {
          "output_type": "stream",
          "name": "stderr",
          "text": [
            "image 1/1: 480x640 1 dog, 1 bottle, 1 toilet\n",
            "Speed: 1.4ms pre-process, 10.7ms inference, 2.9ms NMS per image at shape (1, 3, 480, 640)\n",
            "image 1/1: 480x640 1 person, 2 remotes\n",
            "Speed: 1.4ms pre-process, 10.7ms inference, 1.2ms NMS per image at shape (1, 3, 480, 640)\n",
            "image 1/1: 375x500 3 persons, 1 bottle, 2 chairs\n",
            "Speed: 2.0ms pre-process, 10.7ms inference, 1.2ms NMS per image at shape (1, 3, 480, 640)\n",
            "image 1/1: 424x640 1 person, 2 traffic lights\n",
            "Speed: 1.3ms pre-process, 10.5ms inference, 1.1ms NMS per image at shape (1, 3, 448, 640)\n",
            "image 1/1: 427x640 4 apples\n",
            "Speed: 1.3ms pre-process, 10.4ms inference, 1.1ms NMS per image at shape (1, 3, 448, 640)\n",
            "image 1/1: 361x640 9 persons, 2 horses, 1 backpack\n",
            "Speed: 1.1ms pre-process, 9.6ms inference, 1.2ms NMS per image at shape (1, 3, 384, 640)\n",
            "image 1/1: 640x586 1 bear\n",
            "Speed: 1.9ms pre-process, 13.3ms inference, 1.1ms NMS per image at shape (1, 3, 640, 608)\n"
          ]
        },
        {
          "output_type": "stream",
          "name": "stdout",
          "text": [
            "[          0           0           0           0           0           0           1           0           0           0]\n",
            "[          1           0           0           0           0           0           0           0           0           0]\n",
            "[          1           0           0           0           0           0           0           0           0           0]\n",
            "[          1           0           0           0           0           0           0           0           0           0]\n",
            "[          0           0           0           0           0           1           0           0           0           0]\n",
            "[          1           0           0           0           0           0           0           0           0           0]\n",
            "[          0           0           0           0           0           0           1           0           0           0]\n"
          ]
        },
        {
          "output_type": "stream",
          "name": "stderr",
          "text": [
            "image 1/1: 375x500 1 person, 1 dog, 1 frisbee, 3 chairs\n",
            "Speed: 2.1ms pre-process, 13.2ms inference, 1.1ms NMS per image at shape (1, 3, 480, 640)\n",
            "image 1/1: 454x640 1 bus\n",
            "Speed: 1.4ms pre-process, 10.6ms inference, 1.1ms NMS per image at shape (1, 3, 480, 640)\n",
            "image 1/1: 349x640 1 airplane\n",
            "Speed: 1.0ms pre-process, 9.1ms inference, 1.1ms NMS per image at shape (1, 3, 352, 640)\n",
            "image 1/1: 426x640 15 persons, 1 car, 1 sports ball\n",
            "Speed: 1.3ms pre-process, 10.5ms inference, 1.3ms NMS per image at shape (1, 3, 448, 640)\n",
            "image 1/1: 640x480 1 teddy bear\n",
            "Speed: 1.3ms pre-process, 10.3ms inference, 1.1ms NMS per image at shape (1, 3, 640, 480)\n",
            "image 1/1: 500x375 1 bird\n",
            "Speed: 2.0ms pre-process, 10.2ms inference, 1.6ms NMS per image at shape (1, 3, 640, 480)\n",
            "image 1/1: 640x480 1 person\n",
            "Speed: 1.3ms pre-process, 10.3ms inference, 1.1ms NMS per image at shape (1, 3, 640, 480)\n",
            "image 1/1: 364x640 1 truck, 1 dog\n",
            "Speed: 1.3ms pre-process, 11.4ms inference, 1.2ms NMS per image at shape (1, 3, 384, 640)\n"
          ]
        },
        {
          "output_type": "stream",
          "name": "stdout",
          "text": [
            "[          1           0           0           0           0           0           0           0           0           0]\n",
            "[          0           0           0           1           0           0           0           0           0           0]\n",
            "[          0           0           0           1           0           0           0           0           0           0]\n",
            "[          1           0           0           0           0           0           0           0           0           0]\n",
            "[          0           0           0           0           0           0           0           0           0           0]\n",
            "[          0           0           0           0           0           0           0           0           0           0]\n",
            "[          1           0           0           0           0           0           0           0           0           0]\n"
          ]
        },
        {
          "output_type": "stream",
          "name": "stderr",
          "text": [
            "image 1/1: 640x438 1 tv, 3 mouses, 2 keyboards\n",
            "Speed: 1.3ms pre-process, 10.1ms inference, 1.2ms NMS per image at shape (1, 3, 640, 448)\n",
            "image 1/1: 490x500 1 cat, 1 book\n",
            "Speed: 2.9ms pre-process, 13.5ms inference, 1.1ms NMS per image at shape (1, 3, 640, 640)\n",
            "image 1/1: 480x640 1 cat, 1 laptop\n",
            "Speed: 1.4ms pre-process, 10.7ms inference, 1.1ms NMS per image at shape (1, 3, 480, 640)\n",
            "image 1/1: 640x306 1 person, 1 tie\n",
            "Speed: 1.0ms pre-process, 11.8ms inference, 1.1ms NMS per image at shape (1, 3, 640, 320)\n",
            "image 1/1: 640x480 1 person, 1 skis\n",
            "Speed: 1.2ms pre-process, 10.3ms inference, 1.1ms NMS per image at shape (1, 3, 640, 480)\n"
          ]
        },
        {
          "output_type": "stream",
          "name": "stdout",
          "text": [
            "[          0           0           0           1           0           0           0           0           0           0]\n",
            "[          0           0           0           0           0           0           0           0           0           0]\n",
            "[          0           0           0           0           0           0           0           0           0           0]\n",
            "[          0           0           0           0           0           0           1           0           0           0]\n",
            "[          0           0           0           0           0           0           0           0           0           0]\n",
            "[          1           0           0           0           0           0           0           0           0           0]\n"
          ]
        }
      ],
      "source": [
        "from posix import F_OK\n",
        "import torch\n",
        "import os\n",
        "import pandas as pd\n",
        "import numpy as np\n",
        "import cv2\n",
        "\n",
        "yolo_label=[\"person\",\"laptop\",\"dining table\",\"bicycle\",\"car\",\"airplane\",\"bus\",\"truck\",\"broccoli\",\"apple\",\"orange\",\"banana\",\\\n",
        "            \"bear\",\"sheep\", \"elephant\", \"dog\", \"cat\", \"zebra\", \"giraffe\",\"horse\",\"pizza\",\"hot dog\",\"tennis racket\",\"baseball bat\",\\\n",
        "            \"skis\",\"bed\",\"couch\"]\n",
        "label_correlation = {\"person\": \"person\" ,\"laptop\":\"computer\", \"dining table\": \"table\",\\\n",
        "            \"bicycle\":\"traffic vehicle\",\"car\":\"traffic vehicle\",\"airplane\":\"traffic vehicle\",\"bus\":\"traffic vehicle\",\"truck\":\"traffic vehicle\",\\\n",
        "            \"broccoli\":\"vegetables\",\"apple\":\"fruits\",\"orange\":\"fruits\",\"banana\":\"fruits\",\\\n",
        "            \"bear\":\"animals\",\"sheep\":\"animals\",\"elephant\":\"animals\",\"dog\":\"animals\",\"cat\":\"animals\",\"zebra\":\"animals\",\"giraffe\":\"animals\",\"horse\":\"animals\",\\\n",
        "            \"pizza\":\"foods\",\"hot dog\":\"foods\",\"tennis racket\":\"sports\",\"baseball bat\":\"sports\",\"skis\":\"sports\",\\\n",
        "            \"bed\":\"furniture\",\"couch\":\"furniture\"}\n",
        "label_index = {\"person\": 0, \"computer\": 1, \"table\": 2, \"traffic vehicle\": 3, \"vegetables\": 4, \"fruits\": 5, \"animals\": 6, \"foods\": 7, \"sports\": 8,  \"furniture\": 9}\n",
        "\n",
        "\n",
        "model=torch.hub.load('ultralytics/yolov5','yolov5s')\n",
        "\n",
        "image_array=[]\n",
        "\n",
        "path_photo='/content/drive/MyDrive/ML/HW4/CS282_Dataset/Image/'\n",
        "files_list = os.listdir(path_photo)\n",
        "\n",
        "\n",
        "image = cv2.imread(path_photo+files_list[i])\n",
        "\n",
        "for i in range(len(files_list)):\n",
        "  img = cv2.imread(path_photo+files_list[i])\n",
        "\n",
        "  result=model(img)\n",
        "\n",
        "  result.print()\n",
        "  df=result.pandas().xyxy[0]\n",
        "  df=pd.DataFrame(df,columns=['confidence','name'])\n",
        "  df=df.to_numpy()\n",
        "\n",
        "  df = df[np.argsort(-df[:, 0])]\n",
        "  label_value = np.zeros(len(label_index))\n",
        "\n",
        "  for i in range(df.shape[0]):\n",
        "      confidence = df[i][0]\n",
        "      class_name = df[i][1]\n",
        "      if confidence < 0.5:\n",
        "          break\n",
        "      if class_name in yolo_label:\n",
        "          label_value[label_index[label_correlation[class_name]]] = 1\n",
        "          break\n",
        "  print(label_value)\n",
        "\n",
        "\n"
      ]
    }
  ],
  "metadata": {
    "accelerator": "GPU",
    "colab": {
      "provenance": [],
      "mount_file_id": "1HY-5lcbMrJfOMJOSrqKnqHxCpCWMr9Pm",
      "authorship_tag": "ABX9TyMc5rpkMM38YUdiIlGie9cz",
      "include_colab_link": true
    },
    "gpuClass": "standard",
    "kernelspec": {
      "display_name": "Python 3",
      "name": "python3"
    },
    "language_info": {
      "name": "python"
    }
  },
  "nbformat": 4,
  "nbformat_minor": 0
}